{
 "cells": [
  {
   "cell_type": "markdown",
   "metadata": {},
   "source": [
    "# Object Oriented Programming (OOP)"
   ]
  },
  {
   "cell_type": "markdown",
   "metadata": {},
   "source": [
    "### classes and attributes"
   ]
  },
  {
   "cell_type": "code",
   "execution_count": 1,
   "metadata": {},
   "outputs": [
    {
     "name": "stdout",
     "output_type": "stream",
     "text": [
      "<__main__.vec3 object at 0x10dcac160>\n",
      "2.5\n",
      "{'x': 1, 'y': 2, 'z': 2.5}\n"
     ]
    }
   ],
   "source": [
    "# definition of a class object\n",
    "class vec3:\n",
    "    pass\n",
    "\n",
    "# instance of the vec3 class object\n",
    "a = vec3()\n",
    "\n",
    "# add some attributes to the v instance\n",
    "a.x = 1\n",
    "a.y = 2\n",
    "a.z = 2.5\n",
    "\n",
    "print(a)\n",
    "print(a.z)\n",
    "print(a.__dict__)"
   ]
  },
  {
   "cell_type": "code",
   "execution_count": 2,
   "metadata": {},
   "outputs": [
    {
     "name": "stdout",
     "output_type": "stream",
     "text": [
      "<__main__.vec3 object at 0x10dc88e10>\n",
      "{}\n"
     ]
    }
   ],
   "source": [
    "# another instance of the vec3 class object\n",
    "b = vec3()\n",
    "\n",
    "print(b)\n",
    "print(b.__dict__)"
   ]
  },
  {
   "cell_type": "code",
   "execution_count": 3,
   "metadata": {},
   "outputs": [
    {
     "name": "stdout",
     "output_type": "stream",
     "text": [
      "True\n",
      "True\n",
      "False\n"
     ]
    }
   ],
   "source": [
    "class vec2:\n",
    "    pass\n",
    "\n",
    "print(isinstance(a, vec3))\n",
    "print(isinstance(b, vec3))\n",
    "print(isinstance(a, vec2))"
   ]
  },
  {
   "cell_type": "code",
   "execution_count": 4,
   "metadata": {},
   "outputs": [
    {
     "name": "stdout",
     "output_type": "stream",
     "text": [
      "<__main__.vec3 object at 0x10dcac358> {}\n",
      "<__main__.vec3 object at 0x10dcac320> {}\n"
     ]
    }
   ],
   "source": [
    "# all vec3 instances should have the attributes x, y, z\n",
    "class vec3:\n",
    "    # attributes\n",
    "    x = 1\n",
    "    y = 2\n",
    "    z = 2.5\n",
    "\n",
    "a = vec3()\n",
    "b = vec3()\n",
    "\n",
    "print(a, a.__dict__)\n",
    "print(b, b.__dict__)\n",
    "\n",
    "# !!! Neither a nor b has x, y, or z! Huh?"
   ]
  },
  {
   "cell_type": "code",
   "execution_count": 5,
   "metadata": {},
   "outputs": [
    {
     "name": "stdout",
     "output_type": "stream",
     "text": [
      "{'__module__': '__main__', 'x': 1, 'y': 2, 'z': 2.5, '__dict__': <attribute '__dict__' of 'vec3' objects>, '__weakref__': <attribute '__weakref__' of 'vec3' objects>, '__doc__': None}\n"
     ]
    }
   ],
   "source": [
    "# the class vec3 owns x, y and z!\n",
    "print(vec3.__dict__)"
   ]
  },
  {
   "cell_type": "code",
   "execution_count": 6,
   "metadata": {},
   "outputs": [
    {
     "name": "stdout",
     "output_type": "stream",
     "text": [
      "1 2 2.5\n",
      "1 2 2.5\n"
     ]
    }
   ],
   "source": [
    "# but a and b still have access to x, y and z\n",
    "print(a.x, a.y, a.z)\n",
    "print(b.x, b.y, b.z)"
   ]
  },
  {
   "cell_type": "code",
   "execution_count": 7,
   "metadata": {},
   "outputs": [
    {
     "name": "stdout",
     "output_type": "stream",
     "text": [
      "{'__module__': '__main__', 'x': 1, 'y': 2, 'z': 3, '__dict__': <attribute '__dict__' of 'vec3' objects>, '__weakref__': <attribute '__weakref__' of 'vec3' objects>, '__doc__': None}\n",
      "1 2 3\n",
      "1 2 3\n"
     ]
    }
   ],
   "source": [
    "# this changes z for all vec3 instances\n",
    "vec3.z = 3\n",
    "\n",
    "print(vec3.__dict__)\n",
    "print(a.x, a.y, a.z)\n",
    "print(b.x, b.y, b.z)"
   ]
  },
  {
   "cell_type": "code",
   "execution_count": 8,
   "metadata": {},
   "outputs": [
    {
     "name": "stdout",
     "output_type": "stream",
     "text": [
      "{'__module__': '__main__', 'x': 1, 'y': 2, 'z': 3, '__dict__': <attribute '__dict__' of 'vec3' objects>, '__weakref__': <attribute '__weakref__' of 'vec3' objects>, '__doc__': None}\n",
      "1 2 7\n",
      "1 2 3\n"
     ]
    }
   ],
   "source": [
    "# what if we change z only for a?\n",
    "a.z = 7\n",
    "\n",
    "print(vec3.__dict__)\n",
    "print(a.x, a.y, a.z)\n",
    "print(b.x, b.y, b.z)"
   ]
  },
  {
   "cell_type": "code",
   "execution_count": 9,
   "metadata": {},
   "outputs": [
    {
     "name": "stdout",
     "output_type": "stream",
     "text": [
      "{'z': 7}\n"
     ]
    }
   ],
   "source": [
    "# a now has both a class level attribute z and it's own attribute z!\n",
    "print(a.__dict__)"
   ]
  },
  {
   "cell_type": "code",
   "execution_count": 10,
   "metadata": {},
   "outputs": [
    {
     "name": "stdout",
     "output_type": "stream",
     "text": [
      "{}\n",
      "1 2 3\n"
     ]
    }
   ],
   "source": [
    "# if we get rid of a.z, a will default back to vec3.z\n",
    "del a.__dict__['z']\n",
    "\n",
    "print(a.__dict__)\n",
    "print(a.x, a.y, a.z)"
   ]
  },
  {
   "cell_type": "markdown",
   "metadata": {},
   "source": [
    "### initialization"
   ]
  },
  {
   "cell_type": "code",
   "execution_count": 11,
   "metadata": {},
   "outputs": [
    {
     "name": "stdout",
     "output_type": "stream",
     "text": [
      "{'__module__': '__main__', '__doc__': ' __init__() is a method of vec3 (i.e. a function belonging to the class vec3).\\n    It is called whenever we create a new instance of a vec3 object.\\n    ', '__init__': <function vec3.__init__ at 0x10dc91840>, '__dict__': <attribute '__dict__' of 'vec3' objects>, '__weakref__': <attribute '__weakref__' of 'vec3' objects>}\n",
      "{'x': 10, 'y': 20, 'z': 30}\n"
     ]
    }
   ],
   "source": [
    "# class initialization\n",
    "class vec3:\n",
    "    \"\"\" __init__() is a method of vec3 (i.e. a function belonging to the class vec3).\n",
    "    It is called whenever we create a new instance of a vec3 object.\n",
    "    \"\"\"\n",
    "    def __init__(self):\n",
    "        self.x = 10\n",
    "        self.y = 20\n",
    "        self.z = 30\n",
    "\n",
    "a = vec3()\n",
    "\n",
    "print(vec3.__dict__)\n",
    "print(a.__dict__)"
   ]
  },
  {
   "cell_type": "code",
   "execution_count": 12,
   "metadata": {},
   "outputs": [
    {
     "name": "stdout",
     "output_type": "stream",
     "text": [
      "<__main__.vec3 object at 0x10dcac550>\n",
      "<__main__.vec3 object at 0x10dcac5c0>\n"
     ]
    }
   ],
   "source": [
    "# a and b are two separate instances of the vec3 object\n",
    "b = vec3()\n",
    "\n",
    "print(a)\n",
    "print(b)"
   ]
  },
  {
   "cell_type": "code",
   "execution_count": 13,
   "metadata": {},
   "outputs": [
    {
     "name": "stdout",
     "output_type": "stream",
     "text": [
      "{'x': 5, 'y': 20, 'z': 30}\n",
      "{'x': 10, 'y': 20, 'z': 30}\n"
     ]
    }
   ],
   "source": [
    "a.x = 5\n",
    "\n",
    "print(a.__dict__)\n",
    "print(b.__dict__)"
   ]
  },
  {
   "cell_type": "code",
   "execution_count": 14,
   "metadata": {},
   "outputs": [
    {
     "name": "stdout",
     "output_type": "stream",
     "text": [
      "{'x': 2, 'y': 4, 'z': 6}\n"
     ]
    }
   ],
   "source": [
    "# passing arguments during class instantiation\n",
    "class vec3:\n",
    "    def __init__(self, x, y, z):\n",
    "        self.x = x\n",
    "        self.y = y\n",
    "        self.z = z\n",
    "\n",
    "a = vec3(2, 4, 6)\n",
    "\n",
    "print(a.__dict__)"
   ]
  },
  {
   "cell_type": "code",
   "execution_count": 15,
   "metadata": {},
   "outputs": [
    {
     "name": "stdout",
     "output_type": "stream",
     "text": [
      "{'x': 0, 'y': 0, 'z': 0}\n",
      "{'x': 1, 'y': 2, 'z': 3}\n"
     ]
    }
   ],
   "source": [
    "class vec3:\n",
    "    def __init__(self, x=0, y=0, z=0):\n",
    "        self.x = x\n",
    "        self.y = y\n",
    "        self.z = z\n",
    "\n",
    "a = vec3()\n",
    "b = vec3(1, 2, 3)\n",
    "\n",
    "print(a.__dict__)\n",
    "print(b.__dict__)"
   ]
  },
  {
   "cell_type": "markdown",
   "metadata": {},
   "source": [
    "### methods"
   ]
  },
  {
   "cell_type": "code",
   "execution_count": 34,
   "metadata": {},
   "outputs": [
    {
     "name": "stdout",
     "output_type": "stream",
     "text": [
      "{'x': 1, 'y': 2, 'z': 3}\n",
      "{'x': 11, 'y': 12, 'z': -7}\n"
     ]
    }
   ],
   "source": [
    "# class methods are just functions (e.g. __init__) that are wrapped up into the class\n",
    "class vec3:\n",
    "    def __init__(self, x=0, y=0, z=0):\n",
    "        self.x = x\n",
    "        self.y = y\n",
    "        self.z = z\n",
    "    \n",
    "    def translate(self, dx, dy, dz):\n",
    "        self.x += dx\n",
    "        self.y += dy\n",
    "        self.z += dz\n",
    "\n",
    "a = vec3(1, 2, 3)\n",
    "print(a.__dict__)\n",
    "\n",
    "a.translate(10, 10, -10)\n",
    "print(a.__dict__)"
   ]
  },
  {
   "cell_type": "code",
   "execution_count": 35,
   "metadata": {},
   "outputs": [
    {
     "name": "stdout",
     "output_type": "stream",
     "text": [
      "{'x': 11, 'y': 12, 'z': -7}\n",
      "{'x': 11, 'y': 12, 'z': -7}\n"
     ]
    }
   ],
   "source": [
    "# two ways to call a class method\n",
    "a = vec3(1, 2, 3)\n",
    "vec3.translate(a, 10, 10, -10)\n",
    "print(a.__dict__)\n",
    "\n",
    "a = vec3(1, 2, 3)\n",
    "a.translate(10, 10, -10)\n",
    "print(a.__dict__)"
   ]
  },
  {
   "cell_type": "markdown",
   "metadata": {},
   "source": [
    "### special methods"
   ]
  },
  {
   "cell_type": "code",
   "execution_count": 50,
   "metadata": {},
   "outputs": [
    {
     "name": "stdout",
     "output_type": "stream",
     "text": [
      "(1, 2, 3)\n"
     ]
    }
   ],
   "source": [
    "class vec3:\n",
    "    def __init__(self, x=0, y=0, z=0):\n",
    "        self.x = x\n",
    "        self.y = y\n",
    "        self.z = z\n",
    "    \n",
    "    def __repr__(self):\n",
    "        return f\"({self.x}, {self.y}, {self.z})\"\n",
    "    \n",
    "    def translate(self, dx, dy, dz):\n",
    "        self.x += dx\n",
    "        self.y += dy\n",
    "        self.z += dz\n",
    "\n",
    "a = vec3(1, 2, 3)\n",
    "\n",
    "print(a)"
   ]
  },
  {
   "cell_type": "markdown",
   "metadata": {},
   "source": [
    "### inheritance"
   ]
  },
  {
   "cell_type": "code",
   "execution_count": 51,
   "metadata": {},
   "outputs": [
    {
     "name": "stdout",
     "output_type": "stream",
     "text": [
      "{'x': 0, 'y': 0, 'z': 0}\n",
      "{'x': 1, 'y': 2, 'z': 3}\n",
      "{'x': 11, 'y': 12, 'z': -7}\n"
     ]
    }
   ],
   "source": [
    "# vec4 inherits all of vec3's functionality\n",
    "class vec4(vec3):\n",
    "    pass\n",
    "\n",
    "a = vec4()\n",
    "print(a.__dict__)\n",
    "\n",
    "a = vec4(1, 2, 3)\n",
    "print(a.__dict__)\n",
    "\n",
    "a.translate(10, 10, -10)\n",
    "print(a.__dict__)"
   ]
  },
  {
   "cell_type": "code",
   "execution_count": 52,
   "metadata": {},
   "outputs": [
    {
     "name": "stdout",
     "output_type": "stream",
     "text": [
      "False\n",
      "True\n"
     ]
    }
   ],
   "source": [
    "print(issubclass(vec4, vec2))\n",
    "print(issubclass(vec4, vec3))"
   ]
  },
  {
   "cell_type": "code",
   "execution_count": 53,
   "metadata": {},
   "outputs": [
    {
     "name": "stdout",
     "output_type": "stream",
     "text": [
      "{'w': 1}\n"
     ]
    }
   ],
   "source": [
    "# vec4 extends vec3's functionality\n",
    "class vec4(vec3):\n",
    "    \"\"\" vec4 instantiation will use this __init__ instead of vec3's\n",
    "    \"\"\"\n",
    "    def __init__(self):\n",
    "        self.w = 1\n",
    "\n",
    "a = vec4()\n",
    "\n",
    "print(a.__dict__)"
   ]
  },
  {
   "cell_type": "code",
   "execution_count": 54,
   "metadata": {},
   "outputs": [
    {
     "name": "stdout",
     "output_type": "stream",
     "text": [
      "{'x': 0, 'y': 0, 'z': 0, 'w': 1}\n",
      "{'x': 1, 'y': 2, 'z': 3, 'w': 1}\n",
      "{'x': 1, 'y': 2, 'z': 3, 'w': 0}\n"
     ]
    }
   ],
   "source": [
    "class vec4(vec3):\n",
    "    def __init__(self, x=0, y=0, z=0, w=1):\n",
    "        vec3.__init__(self, x, y, z)  # or you could use `super().__init__(x, y, z)`\n",
    "        self.w = w\n",
    "\n",
    "a = vec4()\n",
    "print(a.__dict__)\n",
    "\n",
    "a = vec4(1, 2, 3)\n",
    "print(a.__dict__)\n",
    "\n",
    "a = vec4(1, 2, 3, 0)\n",
    "print(a.__dict__)"
   ]
  },
  {
   "cell_type": "code",
   "execution_count": 55,
   "metadata": {},
   "outputs": [
    {
     "name": "stdout",
     "output_type": "stream",
     "text": [
      "Help on class vec4 in module __main__:\n",
      "\n",
      "class vec4(vec3)\n",
      " |  vec4(x=0, y=0, z=0, w=1)\n",
      " |  \n",
      " |  Method resolution order:\n",
      " |      vec4\n",
      " |      vec3\n",
      " |      builtins.object\n",
      " |  \n",
      " |  Methods defined here:\n",
      " |  \n",
      " |  __init__(self, x=0, y=0, z=0, w=1)\n",
      " |      Initialize self.  See help(type(self)) for accurate signature.\n",
      " |  \n",
      " |  ----------------------------------------------------------------------\n",
      " |  Methods inherited from vec3:\n",
      " |  \n",
      " |  __repr__(self)\n",
      " |      Return repr(self).\n",
      " |  \n",
      " |  translate(self, dx, dy, dz)\n",
      " |  \n",
      " |  ----------------------------------------------------------------------\n",
      " |  Data descriptors inherited from vec3:\n",
      " |  \n",
      " |  __dict__\n",
      " |      dictionary for instance variables (if defined)\n",
      " |  \n",
      " |  __weakref__\n",
      " |      list of weak references to the object (if defined)\n",
      "\n",
      "None\n"
     ]
    }
   ],
   "source": [
    "print(help(vec4))"
   ]
  },
  {
   "cell_type": "code",
   "execution_count": 56,
   "metadata": {},
   "outputs": [
    {
     "name": "stdout",
     "output_type": "stream",
     "text": [
      "Help on class vec3 in module __main__:\n",
      "\n",
      "class vec3(builtins.object)\n",
      " |  vec3(x=0, y=0, z=0)\n",
      " |  \n",
      " |  Methods defined here:\n",
      " |  \n",
      " |  __init__(self, x=0, y=0, z=0)\n",
      " |      Initialize self.  See help(type(self)) for accurate signature.\n",
      " |  \n",
      " |  __repr__(self)\n",
      " |      Return repr(self).\n",
      " |  \n",
      " |  translate(self, dx, dy, dz)\n",
      " |  \n",
      " |  ----------------------------------------------------------------------\n",
      " |  Data descriptors defined here:\n",
      " |  \n",
      " |  __dict__\n",
      " |      dictionary for instance variables (if defined)\n",
      " |  \n",
      " |  __weakref__\n",
      " |      list of weak references to the object (if defined)\n",
      "\n",
      "None\n"
     ]
    }
   ],
   "source": [
    "print(help(vec3))"
   ]
  },
  {
   "cell_type": "code",
   "execution_count": 57,
   "metadata": {},
   "outputs": [
    {
     "name": "stdout",
     "output_type": "stream",
     "text": [
      "Help on class tmp1 in module __main__:\n",
      "\n",
      "class tmp1(builtins.object)\n",
      " |  Data descriptors defined here:\n",
      " |  \n",
      " |  __dict__\n",
      " |      dictionary for instance variables (if defined)\n",
      " |  \n",
      " |  __weakref__\n",
      " |      list of weak references to the object (if defined)\n",
      "\n",
      "None\n",
      "Help on class tmp2 in module __main__:\n",
      "\n",
      "class tmp2(builtins.object)\n",
      " |  Data descriptors defined here:\n",
      " |  \n",
      " |  __dict__\n",
      " |      dictionary for instance variables (if defined)\n",
      " |  \n",
      " |  __weakref__\n",
      " |      list of weak references to the object (if defined)\n",
      "\n",
      "None\n"
     ]
    }
   ],
   "source": [
    "# all classes inherit from builtins.object by default\n",
    "class tmp1(object):\n",
    "    pass\n",
    "\n",
    "class tmp2():\n",
    "    pass\n",
    "\n",
    "print(help(tmp1))\n",
    "print(help(tmp2))"
   ]
  },
  {
   "cell_type": "markdown",
   "metadata": {},
   "source": [
    "### Exercise: Create a class "
   ]
  },
  {
   "cell_type": "markdown",
   "metadata": {},
   "source": [
    "### Diabetes dataset"
   ]
  },
  {
   "cell_type": "code",
   "execution_count": 87,
   "metadata": {},
   "outputs": [],
   "source": [
    "import numpy as np\n",
    "from sklearn import datasets\n",
    "\n",
    "diabetes = datasets.load_diabetes()\n",
    "X = diabetes.data\n",
    "y = diabetes.target\n",
    "y -= y.mean()\n",
    "features = \"age sex bmi map tc ldl hdl tch ltg glu\".split()"
   ]
  },
  {
   "cell_type": "markdown",
   "metadata": {},
   "source": [
    "### OLS regression class"
   ]
  },
  {
   "cell_type": "code",
   "execution_count": 94,
   "metadata": {},
   "outputs": [],
   "source": [
    "from sklearn.linear_model import LinearRegression\n",
    "\n",
    "class MyLinearRegression:\n",
    "    def __init__(self, X, y):\n",
    "        self.data = X\n",
    "        self.target = y\n",
    "        self.model = LinearRegression()\n",
    "        self.fit()\n",
    "    \n",
    "    def fit(self):\n",
    "        self.model.fit(self.data, self.target)\n",
    "        return self.predict(self.data)\n",
    "    \n",
    "    def predict(self, X):\n",
    "        return self.model.predict(X)\n",
    "    \n",
    "    def params(self):\n",
    "        return self.model.coef_\n",
    "    \n",
    "    def getMSE(self, X, y):\n",
    "        return np.mean((y - self.predict(X))**2)\n",
    "    \n",
    "    def getR2(self, X, y):\n",
    "        return self.model.score(X, y)"
   ]
  },
  {
   "cell_type": "code",
   "execution_count": 95,
   "metadata": {},
   "outputs": [
    {
     "name": "stdout",
     "output_type": "stream",
     "text": [
      "[ -10.01219782 -239.81908937  519.83978679  324.39042769 -792.18416163\n",
      "  476.74583782  101.04457032  177.06417623  751.27932109   67.62538639]\n",
      "MSE = 2859.6903987680657\n",
      "R^2 = 0.5177494254132934\n"
     ]
    }
   ],
   "source": [
    "mymodel = MyLinearRegression(X, y)\n",
    "\n",
    "print(mymodel.params())\n",
    "print(f\"MSE = {mymodel.getMSE(X, y)}\")\n",
    "print(f\"R^2 = {mymodel.getR2(X, y)}\")"
   ]
  },
  {
   "cell_type": "markdown",
   "metadata": {},
   "source": [
    "### Exercise: Add a method to MyLinearRegression that automatically loads the dibaetes data set."
   ]
  },
  {
   "cell_type": "markdown",
   "metadata": {},
   "source": [
    "### Exercise: Add a method to MyLinearRegression that plots the slope factors in a bar graph."
   ]
  },
  {
   "cell_type": "code",
   "execution_count": null,
   "metadata": {},
   "outputs": [],
   "source": []
  },
  {
   "cell_type": "markdown",
   "metadata": {},
   "source": [
    "### Exercise: Ridge regression class"
   ]
  },
  {
   "cell_type": "code",
   "execution_count": 75,
   "metadata": {},
   "outputs": [],
   "source": [
    "from sklearn.linear_model import Ridge\n",
    "from sklearn.model_selection import cross_validate, GridSearchCV\n",
    "\n",
    "class MyRigeRegression:\n",
    "    def __init__(self, X, y, alphas):"
   ]
  },
  {
   "cell_type": "markdown",
   "metadata": {},
   "source": [
    "### Exercise: KNN regression class"
   ]
  },
  {
   "cell_type": "code",
   "execution_count": null,
   "metadata": {},
   "outputs": [],
   "source": [
    "from sklearn import neighbors\n",
    "\n",
    "class MyRigeRegression:\n",
    "    def __init__(self, X, y, K):"
   ]
  }
 ],
 "metadata": {
  "kernelspec": {
   "display_name": "Python 3",
   "language": "python",
   "name": "python3"
  },
  "language_info": {
   "codemirror_mode": {
    "name": "ipython",
    "version": 3
   },
   "file_extension": ".py",
   "mimetype": "text/x-python",
   "name": "python",
   "nbconvert_exporter": "python",
   "pygments_lexer": "ipython3",
   "version": "3.7.1"
  }
 },
 "nbformat": 4,
 "nbformat_minor": 2
}

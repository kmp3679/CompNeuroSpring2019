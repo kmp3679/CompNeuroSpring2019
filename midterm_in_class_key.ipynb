{
 "cells": [
  {
   "cell_type": "markdown",
   "metadata": {},
   "source": [
    "# Midterm Exam - in class (50 pts)"
   ]
  },
  {
   "cell_type": "code",
   "execution_count": 46,
   "metadata": {},
   "outputs": [],
   "source": [
    "import numpy as np\n",
    "import scipy.stats as st\n",
    "import scipy.optimize as opt\n",
    "import matplotlib.pyplot as plt\n",
    "from mpl_toolkits import mplot3d  # for 3d plots"
   ]
  },
  {
   "cell_type": "markdown",
   "metadata": {},
   "source": [
    "---\n",
    "### 1. (2 pts) Write a for loop that prints all odd numbers between 1 and 10."
   ]
  },
  {
   "cell_type": "code",
   "execution_count": 10,
   "metadata": {},
   "outputs": [
    {
     "name": "stdout",
     "output_type": "stream",
     "text": [
      "1\n",
      "3\n",
      "5\n",
      "7\n",
      "9\n"
     ]
    }
   ],
   "source": [
    "for i in range(1, 11, 2):\n",
    "    print(i)"
   ]
  },
  {
   "cell_type": "markdown",
   "metadata": {},
   "source": [
    "---\n",
    "### 2. (2 pts) Write a function that returns the difference between two numbers."
   ]
  },
  {
   "cell_type": "code",
   "execution_count": 11,
   "metadata": {},
   "outputs": [],
   "source": [
    "def get_difference(a, b):\n",
    "    return a - b"
   ]
  },
  {
   "cell_type": "markdown",
   "metadata": {},
   "source": [
    "---\n",
    "### 3. (2 pts) Write a function that returns both the product and ratio of two numbers as a tuple."
   ]
  },
  {
   "cell_type": "code",
   "execution_count": 12,
   "metadata": {},
   "outputs": [],
   "source": [
    "def get_product_and_ratio(a, b):\n",
    "    return a * b, a / b"
   ]
  },
  {
   "cell_type": "markdown",
   "metadata": {},
   "source": [
    "---\n",
    "### 4. (2 pts) Write a function that returns the sum of squared differences between two NumPy arrays. Do NOT use for loops."
   ]
  },
  {
   "cell_type": "code",
   "execution_count": 13,
   "metadata": {},
   "outputs": [],
   "source": [
    "def get_sse(x1, x2):\n",
    "    return ((x1 - x2)**2).sum()"
   ]
  },
  {
   "cell_type": "markdown",
   "metadata": {},
   "source": [
    "---\n",
    "### 5. (2 pts) Write a loop that prints a new random number in the range [0,1] each time, and stops after printing a value greater than 0.8."
   ]
  },
  {
   "cell_type": "code",
   "execution_count": 14,
   "metadata": {},
   "outputs": [
    {
     "name": "stdout",
     "output_type": "stream",
     "text": [
      "[0.49448824]\n",
      "[0.44418366]\n",
      "[0.98325027]\n"
     ]
    }
   ],
   "source": [
    "while True:\n",
    "    r = np.random.rand(1)\n",
    "    print(r)\n",
    "    if r > 0.8:\n",
    "        break"
   ]
  },
  {
   "cell_type": "markdown",
   "metadata": {},
   "source": [
    "---\n",
    "### 6. (2 pts) For the given set of 10 (x, y, z) coordinates, compute the mean and the variance in each dimension."
   ]
  },
  {
   "cell_type": "code",
   "execution_count": 40,
   "metadata": {},
   "outputs": [
    {
     "name": "stdout",
     "output_type": "stream",
     "text": [
      "Mean along each dimension = [1.04370257 1.69013529 2.32155931]\n",
      "Variance along each dimension = [0.12572564 0.79651798 1.11123374]\n"
     ]
    }
   ],
   "source": [
    "xyz = np.array([[1.80582317, 1.19962988, 1.0033366 ],\n",
    "       [0.54645923, 2.27635534, 2.62912538],\n",
    "       [1.14729613, 0.88938158, 3.83042209],\n",
    "       [0.92134435, 2.08908333, 2.62184287],\n",
    "       [1.39690064, 0.48050788, 1.698432  ],\n",
    "       [0.58197865, 2.76623342, 2.10976846],\n",
    "       [1.15790813, 0.27185749, 2.32151991],\n",
    "       [1.10104252, 2.51418472, 0.5914693 ],\n",
    "       [0.91582428, 2.81302484, 2.22339173],\n",
    "       [0.86244858, 1.60109444, 4.18628476]])\n",
    "\n",
    "print(\"Mean along each dimension =\", xyz.mean(axis=0))\n",
    "print(\"Variance along each dimension =\", xyz.var(axis=0))"
   ]
  },
  {
   "cell_type": "markdown",
   "metadata": {},
   "source": [
    "---\n",
    "### 7. (3 pts) For the 10 (x, y, z) coordinates in #6 above, shift them so that their mean is located at the origin. The variable xyz should now refer to the shifted coordinates."
   ]
  },
  {
   "cell_type": "code",
   "execution_count": 41,
   "metadata": {},
   "outputs": [
    {
     "data": {
      "text/plain": [
       "array([[ 7.62120602e-01, -4.90505412e-01, -1.31822271e+00],\n",
       "       [-4.97243338e-01,  5.86220048e-01,  3.07566070e-01],\n",
       "       [ 1.03593562e-01, -8.00753712e-01,  1.50886278e+00],\n",
       "       [-1.22358218e-01,  3.98948038e-01,  3.00283560e-01],\n",
       "       [ 3.53198072e-01, -1.20962741e+00, -6.23127310e-01],\n",
       "       [-4.61723918e-01,  1.07609813e+00, -2.11790850e-01],\n",
       "       [ 1.14205562e-01, -1.41827780e+00, -3.94000000e-05],\n",
       "       [ 5.73399520e-02,  8.24049428e-01, -1.73009001e+00],\n",
       "       [-1.27878288e-01,  1.12288955e+00, -9.81675800e-02],\n",
       "       [-1.81253988e-01, -8.90408520e-02,  1.86472545e+00]])"
      ]
     },
     "execution_count": 41,
     "metadata": {},
     "output_type": "execute_result"
    }
   ],
   "source": [
    "xyz -= xyz.mean(axis=0)\n",
    "\n",
    "xyz"
   ]
  },
  {
   "cell_type": "markdown",
   "metadata": {},
   "source": [
    "---\n",
    "### 8. (3 pts) For the 10 shifted (x, y, z) coordinates in #7 above, scale them so that they fall within the range [-1, 1] in each dimension. The variable xyz should now refer to the shifted and scaled coordinates."
   ]
  },
  {
   "cell_type": "code",
   "execution_count": 42,
   "metadata": {},
   "outputs": [
    {
     "data": {
      "text/plain": [
       "array([[ 1.00000000e+00, -3.45845794e-01, -7.06925896e-01],\n",
       "       [-6.52447049e-01,  4.13332316e-01,  1.64939064e-01],\n",
       "       [ 1.35928043e-01, -5.64595815e-01,  8.09160823e-01],\n",
       "       [-1.60549679e-01,  2.81290476e-01,  1.61033658e-01],\n",
       "       [ 4.63441181e-01, -8.52884682e-01, -3.34165713e-01],\n",
       "       [-6.05841014e-01,  7.58735790e-01, -1.13577497e-01],\n",
       "       [ 1.49852348e-01, -1.00000000e+00, -2.11291158e-05],\n",
       "       [ 7.52373730e-02,  5.81021170e-01, -9.27798787e-01],\n",
       "       [-1.67792719e-01,  7.91727507e-01, -5.26445220e-02],\n",
       "       [-2.37828485e-01, -6.27809671e-02,  1.00000000e+00]])"
      ]
     },
     "execution_count": 42,
     "metadata": {},
     "output_type": "execute_result"
    }
   ],
   "source": [
    "xyz /= np.abs(xyz).max(axis=0)\n",
    "\n",
    "xyz"
   ]
  },
  {
   "cell_type": "markdown",
   "metadata": {},
   "source": [
    "---\n",
    "### 9. (3 pts) Write an enumerated for loop that sets each y value in the 10 (x, y, z) coordinates from #8 above to the integer values 11-20."
   ]
  },
  {
   "cell_type": "code",
   "execution_count": 43,
   "metadata": {},
   "outputs": [
    {
     "data": {
      "text/plain": [
       "array([[ 1.00000000e+00,  1.10000000e+01, -7.06925896e-01],\n",
       "       [-6.52447049e-01,  1.20000000e+01,  1.64939064e-01],\n",
       "       [ 1.35928043e-01,  1.30000000e+01,  8.09160823e-01],\n",
       "       [-1.60549679e-01,  1.40000000e+01,  1.61033658e-01],\n",
       "       [ 4.63441181e-01,  1.50000000e+01, -3.34165713e-01],\n",
       "       [-6.05841014e-01,  1.60000000e+01, -1.13577497e-01],\n",
       "       [ 1.49852348e-01,  1.70000000e+01, -2.11291158e-05],\n",
       "       [ 7.52373730e-02,  1.80000000e+01, -9.27798787e-01],\n",
       "       [-1.67792719e-01,  1.90000000e+01, -5.26445220e-02],\n",
       "       [-2.37828485e-01,  2.00000000e+01,  1.00000000e+00]])"
      ]
     },
     "execution_count": 43,
     "metadata": {},
     "output_type": "execute_result"
    }
   ],
   "source": [
    "for i, val in enumerate(range(11, 21)):\n",
    "    xyz[i, 1] = val\n",
    "\n",
    "xyz"
   ]
  },
  {
   "cell_type": "markdown",
   "metadata": {},
   "source": [
    "---\n",
    "### 10. (3 pts) Repeat #9 above, but for the z values instead of the y values and do NOT use a for loop. Instead, do it in a single line of code."
   ]
  },
  {
   "cell_type": "code",
   "execution_count": 44,
   "metadata": {},
   "outputs": [
    {
     "data": {
      "text/plain": [
       "array([[ 1.        , 11.        , 11.        ],\n",
       "       [-0.65244705, 12.        , 12.        ],\n",
       "       [ 0.13592804, 13.        , 13.        ],\n",
       "       [-0.16054968, 14.        , 14.        ],\n",
       "       [ 0.46344118, 15.        , 15.        ],\n",
       "       [-0.60584101, 16.        , 16.        ],\n",
       "       [ 0.14985235, 17.        , 17.        ],\n",
       "       [ 0.07523737, 18.        , 18.        ],\n",
       "       [-0.16779272, 19.        , 19.        ],\n",
       "       [-0.23782848, 20.        , 20.        ]])"
      ]
     },
     "execution_count": 44,
     "metadata": {},
     "output_type": "execute_result"
    }
   ],
   "source": [
    "xyz[:, 2] = range(11, 21)\n",
    "\n",
    "xyz"
   ]
  },
  {
   "cell_type": "markdown",
   "metadata": {},
   "source": [
    "---\n",
    "### 11. (3pts) For the 10 (x, y, z) coordinates in #9 above, use broadcasting to scale each x coordinate by 3.5, each y coordiante by -1, and each z coordinate by 2. For full credit, do it in a single line of code (in fact, a single operation)."
   ]
  },
  {
   "cell_type": "code",
   "execution_count": 45,
   "metadata": {},
   "outputs": [
    {
     "data": {
      "text/plain": [
       "array([[  3.5       , -11.        ,  22.        ],\n",
       "       [ -2.28356467, -12.        ,  24.        ],\n",
       "       [  0.47574815, -13.        ,  26.        ],\n",
       "       [ -0.56192388, -14.        ,  28.        ],\n",
       "       [  1.62204413, -15.        ,  30.        ],\n",
       "       [ -2.12044355, -16.        ,  32.        ],\n",
       "       [  0.52448322, -17.        ,  34.        ],\n",
       "       [  0.26333081, -18.        ,  36.        ],\n",
       "       [ -0.58727452, -19.        ,  38.        ],\n",
       "       [ -0.8323997 , -20.        ,  40.        ]])"
      ]
     },
     "execution_count": 45,
     "metadata": {},
     "output_type": "execute_result"
    }
   ],
   "source": [
    "xyz *= np.array([[3.5, -1, 2]])  # [[...]] denote 1x3 matrix instead of one-dimensional length 3 array.\n",
    "\n",
    "xyz"
   ]
  },
  {
   "cell_type": "markdown",
   "metadata": {},
   "source": [
    "---\n",
    "### 12. (2 pts) Make a 3D scatter plot of the 10 (x, y, z) coordinates from #11 above."
   ]
  },
  {
   "cell_type": "code",
   "execution_count": 49,
   "metadata": {},
   "outputs": [
    {
     "data": {
      "image/png": "[encoded data removed]",
      "text/plain": [
       "<Figure size 432x288 with 1 Axes>"
      ]
     },
     "metadata": {
      "needs_background": "light"
     },
     "output_type": "display_data"
    }
   ],
   "source": [
    "fig = plt.figure()\n",
    "ax = fig.add_subplot(111, projection='3d')\n",
    "ax.scatter(xyz[:, 0], xyz[:, 1], xyz[:, 2])\n",
    "ax.set_xlabel('x')\n",
    "ax.set_ylabel('y')\n",
    "ax.set_zlabel('z')\n",
    "fig.tight_layout();  # helps improve margins between plots"
   ]
  },
  {
   "cell_type": "markdown",
   "metadata": {},
   "source": [
    "---\n",
    "### 13. (2 pts) Using only a single line of code, compute the distance between each of the 10 (x, y, z) coordinates in #12 above and the origin. Hint, your result should be an array of 10 distances."
   ]
  },
  {
   "cell_type": "code",
   "execution_count": 50,
   "metadata": {},
   "outputs": [
    {
     "data": {
      "text/plain": [
       "array([24.8445165 , 26.92981002, 29.07277655, 31.30999455, 33.5802178 ,\n",
       "       35.83986999, 38.0167737 , 40.25008501, 42.48935033, 44.72910562])"
      ]
     },
     "execution_count": 50,
     "metadata": {},
     "output_type": "execute_result"
    }
   ],
   "source": [
    "distances = np.sqrt((xyz**2).sum(axis=1))\n",
    "\n",
    "distances"
   ]
  },
  {
   "cell_type": "markdown",
   "metadata": {},
   "source": [
    "---\n",
    "### 14. (5 pts) Using only a single line of code, compute the distance between each pair of the 10 (x, y, z) coordinates in #12 above. i.e. compute the distance between the first and second point, the third and fourth point, etc. Hint, your result should be an array of 5 distances."
   ]
  },
  {
   "cell_type": "code",
   "execution_count": 51,
   "metadata": {},
   "outputs": [
    {
     "data": {
      "text/plain": [
       "array([6.20077578, 2.46510917, 4.35961169, 2.25126644, 2.24946357])"
      ]
     },
     "execution_count": 51,
     "metadata": {},
     "output_type": "execute_result"
    }
   ],
   "source": [
    "distances = np.sqrt(((xyz[1::2, :] - xyz[0::2, :])**2).sum(axis=1))\n",
    "\n",
    "distances"
   ]
  },
  {
   "cell_type": "markdown",
   "metadata": {},
   "source": [
    "---\n",
    "### 15. (5 pts) Fit the voltage data below to an exponential decay plus a constant. You should define a fit function and optimize the fit parameters by minimizing the sum of squared errors between the data and the fit. Plot the data overlaid with the fit and report the optimized parameters."
   ]
  },
  {
   "cell_type": "code",
   "execution_count": 53,
   "metadata": {},
   "outputs": [],
   "source": [
    "# time (sec) vs. voltage (mV)\n",
    "time_sec = np.linspace(0, 10, 300)\n",
    "voltage_mV = np.array([  8.66453409,   9.32423142,   8.9175581 ,   5.56191891,\n",
    "         8.69296515,   6.69593855,   9.58265148,   5.86205841,\n",
    "        10.46154224,   4.55015492,   4.87435667,   4.63317783,\n",
    "         0.55417907,  -4.37282211,   6.68299736,  -4.4052335 ,\n",
    "         6.1014866 ,   0.26528017,   1.79813968,   6.52275393,\n",
    "        -0.02870845,  -1.81505972,  -0.09232147,   3.34104509,\n",
    "         1.78251474,  -5.39067754,   1.42034806,  -1.17185792,\n",
    "        -0.45254315,   0.98088144,  -1.20343439,  -5.37153811,\n",
    "        -4.26439976,  -4.69523065,  -4.43550488, -10.40395694,\n",
    "         1.90244686,  -4.74552174,  -2.45677727,   3.60494242,\n",
    "        -3.95340622,  -6.71528241,  -7.2562972 ,  -2.8238591 ,\n",
    "        -4.34735975,  -2.75641586,  -1.27724076,  -6.47900801,\n",
    "        -7.15433548,  -9.24074161,  -6.6932624 ,  -4.82804417,\n",
    "        -5.33520776,  -5.68544126,  -8.05878334,  -8.98186014,\n",
    "        -2.75349199,  -5.75173402,  -1.81430504,  -8.60337099,\n",
    "        -7.91381984, -13.35748181, -14.37863383, -15.20818124,\n",
    "        -7.02466587, -11.30894157, -10.55366728, -18.76008302,\n",
    "       -17.45668536,  -6.57985825,  -9.1244199 ,  -9.6250265 ,\n",
    "       -14.72252901, -10.83957783,  -8.60781238,  -9.21722777,\n",
    "       -12.22231073, -15.1726677 ,  -9.66310491, -12.18175517,\n",
    "       -14.71932864, -17.93675344,  -8.76552478,  -9.21556937,\n",
    "       -13.73563676, -13.37843769, -10.04522533, -10.3400774 ,\n",
    "       -12.97969559, -16.31608154,  -9.47278995,  -8.22112713,\n",
    "       -12.56635374, -11.69142681, -14.93840621,  -9.3187918 ,\n",
    "       -15.03319399, -15.40718521, -15.59508814, -10.989154  ,\n",
    "       -13.93773991, -17.33691186, -17.04170516, -16.88641028,\n",
    "       -18.28731597, -12.31818958, -21.51012188, -12.03793087,\n",
    "       -14.80217438, -13.70717566,  -7.24342491, -14.13869183,\n",
    "       -18.2262996 , -16.94355062, -18.15486186, -11.99288322,\n",
    "       -19.1111148 , -13.10344693, -12.34702307, -11.62544164,\n",
    "       -16.6740623 , -17.92856832, -21.41740337, -17.58898318,\n",
    "        -8.66329611, -12.84952242, -13.21615977, -13.49086054,\n",
    "       -24.98189744, -13.40311329, -20.5463597 , -15.25755581,\n",
    "       -19.64089672, -10.10112663, -17.87614232, -16.19439591,\n",
    "       -18.79315105, -15.17875934, -18.21855096, -19.25235301,\n",
    "       -17.74175177, -20.71771335, -13.91684974, -11.89006326,\n",
    "       -19.48901327, -20.58620807, -13.71459457, -15.74894775,\n",
    "       -18.88080645, -14.0269467 , -11.62749654, -24.24310486,\n",
    "       -15.99237367, -16.43019965, -15.68460708, -16.07189398,\n",
    "       -16.23029674, -16.20602137, -14.83457125, -13.3758737 ,\n",
    "       -19.44341761, -18.03226139, -16.02470576, -20.08618815,\n",
    "       -16.26263106, -20.33601055, -21.71564936, -21.88798969,\n",
    "       -20.5569665 , -15.38567979, -19.58276541, -14.47767706,\n",
    "       -21.05290067, -17.65710643, -20.73006826, -15.85392796,\n",
    "       -25.9963559 , -18.32133237, -18.75574792, -18.44901402,\n",
    "       -14.10318719, -21.98164759, -17.98219365, -18.63764292,\n",
    "       -15.25440973, -14.2396245 , -15.45400193, -20.38671973,\n",
    "       -18.5907927 , -13.93284731, -23.42423391, -20.13570471,\n",
    "       -19.75691541, -18.02817276, -17.82194134, -18.93877075,\n",
    "       -19.24700614, -16.43749579, -13.35135623, -22.97659446,\n",
    "       -16.68947383, -21.4777629 , -17.83565903, -15.67054053,\n",
    "       -23.07790547, -20.36010555, -17.1055689 , -14.66660659,\n",
    "       -20.79327037, -16.31922683, -17.82972749, -22.58669675,\n",
    "       -22.95748694, -18.81981521, -21.77429071, -20.44981563,\n",
    "       -17.22804694, -21.77015951, -21.36900981, -23.88408883,\n",
    "       -15.70343426, -22.54571867, -21.70638575, -20.08527503,\n",
    "       -17.75635154, -16.89372445, -20.93892227, -22.00913011,\n",
    "       -19.09724829, -24.8100753 , -20.92341787, -16.31521355,\n",
    "       -21.2883407 , -18.47298179, -15.39223158, -19.81711203,\n",
    "       -18.07578525, -17.87191827, -19.71576828, -22.42324156,\n",
    "       -22.5812453 , -21.77144994, -12.02546168, -19.29209008,\n",
    "       -21.90631174, -12.89226183, -25.48041403, -22.92237999,\n",
    "       -19.10633721, -20.82760917, -22.83222655, -17.31906886,\n",
    "       -21.19797859, -24.3962739 , -19.9343998 , -17.08136196,\n",
    "       -21.59173806, -22.30539311, -18.71830576, -12.47571814,\n",
    "       -16.05546138, -22.3298368 , -17.51810475, -19.47748377,\n",
    "       -23.31711876, -18.23650444, -19.7284583 , -18.05307703,\n",
    "       -14.59083031, -21.20774197, -21.15325428, -25.71013301,\n",
    "       -16.02519381, -23.75404911, -25.61473491, -18.63438786,\n",
    "       -18.43371363, -11.31027939, -11.94386149, -17.9518772 ,\n",
    "       -20.93689736, -21.51882906, -24.35075575, -19.89132188,\n",
    "       -16.71838229, -21.97527814, -19.73539592, -22.47209365,\n",
    "       -21.46016166, -18.61183907, -19.70341714, -21.86805496,\n",
    "       -18.25564969, -18.10293224, -22.54274055, -18.00818234,\n",
    "       -21.99063473, -18.58184002, -23.80968993, -19.7207154 ])"
   ]
  },
  {
   "cell_type": "code",
   "execution_count": 55,
   "metadata": {},
   "outputs": [
    {
     "data": {
      "image/png": "[encoded data removed]",
      "text/plain": [
       "<Figure size 432x288 with 1 Axes>"
      ]
     },
     "metadata": {
      "needs_background": "light"
     },
     "output_type": "display_data"
    }
   ],
   "source": [
    "def exp_decay(time, amp, tau, constant):\n",
    "    return amp * np.exp(-time / tau) + constant\n",
    "\n",
    "result = opt.curve_fit(exp_decay, time_sec, voltage_mV)\n",
    "amp, tau, constant = result[0]\n",
    "\n",
    "plt.plot(time_sec, voltage_mV, label='data')\n",
    "plt.plot(time_sec, exp_decay(time_sec, amp, tau, constant), label=f'fit: amp = {amp:.0f} mV, tau = {tau:.1f} sec, constant = {constant:0.1f}')\n",
    "plt.xlabel('Time (sec)')\n",
    "plt.ylabel('Voltage (mV)')\n",
    "plt.legend();"
   ]
  },
  {
   "cell_type": "markdown",
   "metadata": {},
   "source": [
    "---\n",
    "### 16. (5 pts) You record the time-dependent current amplitude through a single ion channel both in the absence (control) and presence of a toxin (see data below which only includes time points where the channel was open - i.e. data where the channel was closed has been removed). Assume current fluctuations are uncorrelated and normally distributed. Plot the data. Then perform a permutation test to decide if the toxin affects the size of the current fluctuations through the open channel (i.e. the standard deviation of the channel current when it is in the open state). Report your null and alternative hypotheses, your p-value from the permutation test, and whether or not you reject your null hypothesis. Also plot the result of the permutation test (i.e. plot the distribution of permuted differences in sigma and also indicate the difference between the MLEs of sigma for each actual data set with a vertical line)."
   ]
  },
  {
   "cell_type": "code",
   "execution_count": 4,
   "metadata": {},
   "outputs": [
    {
     "data": {
      "image/png": "[encoded data removed]",
      "text/plain": [
       "<Figure size 432x288 with 1 Axes>"
      ]
     },
     "metadata": {
      "needs_background": "light"
     },
     "output_type": "display_data"
    }
   ],
   "source": [
    "control_current_pA = np.array([4.03150921, 5.35005992, 4.9044136 , 5.75425045, 4.54202161,\n",
    "       4.35710467, 5.97752543, 5.05624353, 3.22346375, 7.11071582,\n",
    "       4.04086427, 4.32857646, 6.30056182, 3.65809927, 6.57265728,\n",
    "       4.70164081, 5.1101728 , 5.71270398, 5.00034292, 4.19906666,\n",
    "       2.03006266, 4.10125049, 5.57952774, 5.50038489, 5.97479919,\n",
    "       5.42698878, 5.88464693, 3.53925318, 4.86306604, 4.54504284,\n",
    "       4.06832375, 3.38257841, 5.72606498, 5.77082579, 3.94417216,\n",
    "       6.04297478, 6.03137911, 4.72622255, 4.31080346, 5.06943403,\n",
    "       4.13237601, 5.37546877, 5.48315923, 2.60443664, 4.58468215,\n",
    "       4.9446293 , 6.01987885, 5.15408473, 4.81054766, 5.33714209,\n",
    "       6.64552171, 7.0578201 , 5.36019945, 4.72538113, 6.30884626,\n",
    "       5.51767348, 3.35226856, 3.82817138, 6.97998826, 4.39735622,\n",
    "       7.54209114, 6.19864503, 4.97246172, 5.34602361, 5.82432497,\n",
    "       4.0865825 , 5.47517538, 5.40070897, 2.8524926 , 3.83639657,\n",
    "       4.93458818, 4.88141644, 6.01449063, 6.25857314, 4.03744697,\n",
    "       4.60863723, 5.35649482, 5.39405226, 6.22138368, 6.01617168,\n",
    "       4.19447619, 4.88831804, 4.88241037, 5.9060959 , 5.21696952,\n",
    "       5.86979465, 4.77714168, 3.53762488, 4.36346394, 4.40397988,\n",
    "       5.25795862, 4.31317957, 3.70375756, 3.8538846 , 5.47317128,\n",
    "       4.73139441, 4.37810953, 4.41140894, 5.18347364, 4.53585324,\n",
    "       4.11916743, 3.04444944, 4.76087713, 5.22170241, 5.79857067,\n",
    "       5.35625202, 6.43433742, 3.43649271, 4.61494332, 5.57264178,\n",
    "       3.930557  , 4.56218124, 4.61044655, 5.1246218 , 5.93238325,\n",
    "       4.72979243, 4.96153242, 5.32342659, 4.5894581 , 5.18472725,\n",
    "       4.01706299, 4.61919031, 5.94454731, 3.61618331, 5.69556144,\n",
    "       5.13398501, 4.17378522, 4.39720973, 5.15826113, 6.05233913,\n",
    "       4.17269185, 4.03900288, 4.45355939, 4.19994886, 4.12870401,\n",
    "       5.83701024, 4.38492446, 3.92021803, 4.40789588, 5.84415893,\n",
    "       5.05424301, 6.32789738, 3.47154195, 4.96423708, 5.83862982,\n",
    "       6.42686264, 4.75656097, 5.54022733, 3.53297469, 4.76121663,\n",
    "       5.01499506, 5.3697581 , 5.9614272 , 6.25372446, 5.75877715,\n",
    "       4.95992757, 3.94369449, 5.35967673, 3.41762373, 4.64050732,\n",
    "       5.99511177, 5.27236238, 5.59935983, 2.62828184, 4.2925427 ,\n",
    "       4.18171814, 5.06102011, 5.10920024, 6.80851243, 5.08496527,\n",
    "       4.76387311, 4.16885758, 4.8072182 , 4.61179928, 5.62581193,\n",
    "       4.61322343, 3.90061734, 5.65824602, 5.11203629, 5.98888234,\n",
    "       4.46230765, 3.37139586, 4.82700425, 5.95728518, 4.73280883,\n",
    "       4.11400828, 5.55439261, 6.1559831 , 4.74786815, 4.79568241,\n",
    "       4.11720113, 4.72263365, 6.93646713, 4.27758138, 4.9576273 ,\n",
    "       6.1331057 , 4.7093127 , 5.81270598, 5.71730717, 4.29894352,\n",
    "       6.36630565, 4.68713094, 6.37881931, 3.17309655, 2.63717159])\n",
    "toxin_current_pA = np.array([ 7.60961679,  9.37034271,  7.07246212,  5.86773613,  5.92226577,\n",
    "        8.76583987,  7.32077966,  7.23182365,  8.40735501,  8.85710003,\n",
    "        5.92910102,  8.20628013,  9.23666421,  8.68871746,  8.33005897,\n",
    "        7.48336383,  7.80298365,  7.43452038,  7.46266961,  7.41682678,\n",
    "        9.69396569,  9.09118965,  7.49661445,  8.98263113,  8.81012844,\n",
    "        6.30884951,  8.21543216,  7.97151925,  8.74100316,  8.2157272 ,\n",
    "        7.32937124,  7.56515421,  9.58882995,  7.82420469,  5.26593059,\n",
    "        7.48153336,  8.3063745 ,  7.67310726, 10.01612404,  7.79477974,\n",
    "        7.10440927,  5.92735657,  7.33097054,  7.86274952,  8.03131921,\n",
    "       11.24918233,  8.44044296,  8.21363828,  6.70968127,  8.9176313 ,\n",
    "       11.43552128,  8.70348016,  6.87658295,  8.67987668,  6.33068464,\n",
    "        8.89119019,  7.26888331,  8.27544728,  8.15041154,  6.07242236,\n",
    "        8.73241919,  5.98780195,  7.80820107,  7.79206312,  8.13674211,\n",
    "        9.64763637,  8.72122585,  9.14177842,  7.94235773,  7.57852162,\n",
    "        6.72718469,  7.55439714,  8.98093647,  7.82369591,  8.02313094,\n",
    "        9.19062157,  7.8682468 ,  7.31675927,  9.94454295,  9.30453427,\n",
    "        9.36754654,  9.75977773,  5.1849242 ,  8.74018526,  8.54621738,\n",
    "        7.33227804,  7.38875862,  5.94554764,  7.06422596,  6.73617612,\n",
    "        8.63929211,  7.97148873,  7.72168226,  7.84022914,  9.07691762,\n",
    "        8.40690996,  8.7771139 ,  6.61492601,  6.10637652,  7.14955948,\n",
    "        6.74877077,  8.57666357,  6.18863655,  8.56078376,  7.14224161,\n",
    "        8.24987134,  9.49010618,  8.76482982,  9.17533594,  8.72207856,\n",
    "        8.17676082,  8.39039663,  8.96798519,  7.77505548,  8.90350684,\n",
    "        8.10008448,  8.46045961,  9.65848642,  8.25876851,  7.77492258,\n",
    "        8.58311361,  6.70798608,  6.70562358,  6.93360349,  8.3013277 ,\n",
    "        7.61311802,  8.56594907,  7.33282668, 11.00033713,  7.85895211,\n",
    "        7.44621012,  8.57509475,  7.05178452,  8.37078844, 10.62156803,\n",
    "        6.99158165,  7.81354149,  8.06160781,  7.90673138,  9.90885401,\n",
    "        6.81565899,  8.67192309,  7.9539827 ,  8.25855893,  8.27149754,\n",
    "        7.17481818,  8.54761346,  7.83062659,  9.24647097,  6.6307797 ,\n",
    "        7.32669798,  8.28532766,  7.08691382,  6.38533146,  9.0104272 ,\n",
    "        8.52544934,  7.61334789,  6.77356794,  8.39287474,  6.86095398,\n",
    "        8.60455185,  9.35001121,  9.38519484,  6.9673516 ,  7.41680611,\n",
    "        7.0467405 ,  8.57751505,  9.69495461,  9.74565552,  8.33842592,\n",
    "        9.12333636,  7.4968431 ,  8.43236925,  8.33333632,  8.22731799,\n",
    "        9.05307618,  8.26975749,  7.56401947,  7.12560856,  6.46681031,\n",
    "        8.71997107,  6.63361736,  8.28835295,  6.584427  ,  6.2973554 ,\n",
    "        8.53158821,  7.45407834,  8.50039049,  8.4475556 ,  8.28053785,\n",
    "        6.88277102,  7.41688387,  9.93133193,  5.9638023 ,  6.68364453])\n",
    "\n",
    "plt.hist(control_current_pA, alpha=0.5, label='control')\n",
    "plt.hist(toxin_current_pA, alpha=0.5, label='toxin')\n",
    "plt.xlabel('Current (pA)')\n",
    "plt.ylabel('Counts')\n",
    "plt.legend();"
   ]
  },
  {
   "cell_type": "markdown",
   "metadata": {},
   "source": [
    "$H_0$: Toxin does not affect standard deviation of open channel current.\n",
    "\n",
    "$H_a$: Toxin does affect standard deviation of open channel current."
   ]
  },
  {
   "cell_type": "code",
   "execution_count": 6,
   "metadata": {},
   "outputs": [
    {
     "name": "stdout",
     "output_type": "stream",
     "text": [
      "p-value = 0.148\n"
     ]
    },
    {
     "data": {
      "image/png": "[encoded data removed]",
      "text/plain": [
       "<Figure size 432x288 with 1 Axes>"
      ]
     },
     "metadata": {
      "needs_background": "light"
     },
     "output_type": "display_data"
    }
   ],
   "source": [
    "# A = control, B = toxin\n",
    "muA, sigmaA = st.norm.fit(control_current_pA)\n",
    "muB, sigmaB = st.norm.fit(toxin_current_pA)\n",
    "\n",
    "num_permutations = 10000\n",
    "nA = len(control_current_pA)\n",
    "nB = len(toxin_current_pA)\n",
    "alldata = np.hstack([control_current_pA, toxin_current_pA])\n",
    "psigmaA = np.zeros((num_permutations,))\n",
    "psigmaB = np.zeros((num_permutations,))\n",
    "for i in range(num_permutations):\n",
    "    np.random.shuffle(alldata)\n",
    "    A = alldata[:nA]\n",
    "    B = alldata[-nB:]\n",
    "    _, psigmaA[i] = st.norm.fit(A)\n",
    "    _, psigmaB[i] = st.norm.fit(B)\n",
    "\n",
    "pvalue = (np.abs(psigmaB - psigmaA) > np.abs(sigmaB - sigmaA)).sum() / num_permutations\n",
    "print(f\"p-value = {pvalue:.3f}\")\n",
    "\n",
    "plt.hist(psigmaB - psigmaA, bins=100, alpha=0.5, label='permutations')\n",
    "plt.axvline(sigmaB - sigmaA, label=f'data (p-value = {pvalue:.3f})')\n",
    "plt.xlabel('sigmaB - sigmaA (pA)')\n",
    "plt.ylabel('Permutation Frequency')\n",
    "plt.legend();"
   ]
  },
  {
   "cell_type": "markdown",
   "metadata": {},
   "source": [
    "Do not reject $H_0$ because p-value is greater than 0.05. Thus, it is not so unlikely that the standard deviation of the channel current is unaffected by the toxin."
   ]
  },
  {
   "cell_type": "markdown",
   "metadata": {},
   "source": [
    "---\n",
    "### 17. (4 pts) For #16 above, does the toxin affect the channel's mean current amplitude? Report your null and alternative hypotheses, your p-value based on whichever test you choose to do, and whether or not you reject your null hypothesis."
   ]
  },
  {
   "cell_type": "markdown",
   "metadata": {},
   "source": [
    "$H_0$: Toxin does not affect mean open channel current.\n",
    "\n",
    "$H_a$: Toxin does affect mean open channel current."
   ]
  },
  {
   "cell_type": "code",
   "execution_count": 8,
   "metadata": {},
   "outputs": [
    {
     "name": "stdout",
     "output_type": "stream",
     "text": [
      "p-value = 6.320903820643961e-103\n"
     ]
    }
   ],
   "source": [
    "t, pvalue = st.ttest_ind(control_current_pA, toxin_current_pA)\n",
    "print(f\"p-value = {pvalue}\")"
   ]
  },
  {
   "cell_type": "markdown",
   "metadata": {},
   "source": [
    "Reject $H_0$ because p-value is much less than 0.05. Thus, it is extremely unlikely that the toxin did not affect the mean open channel current."
   ]
  },
  {
   "cell_type": "code",
   "execution_count": null,
   "metadata": {},
   "outputs": [],
   "source": []
  }
 ],
 "metadata": {
  "kernelspec": {
   "display_name": "Python 3",
   "language": "python",
   "name": "python3"
  },
  "language_info": {
   "codemirror_mode": {
    "name": "ipython",
    "version": 3
   },
   "file_extension": ".py",
   "mimetype": "text/x-python",
   "name": "python",
   "nbconvert_exporter": "python",
   "pygments_lexer": "ipython3",
   "version": "3.7.1"
  }
 },
 "nbformat": 4,
 "nbformat_minor": 2
}

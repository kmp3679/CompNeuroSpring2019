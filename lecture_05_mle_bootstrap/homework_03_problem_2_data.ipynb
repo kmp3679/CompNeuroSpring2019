{
 "cells": [
  {
   "cell_type": "markdown",
   "metadata": {},
   "source": [
    "### 2. (2 pts) You measure the time spent in a chamber with both a noxious stimuli and a reward for 70 mice. Based on your sample data, what is the maximum likelihood estimate of the time constant for the duration a mouse spends in the chamber?"
   ]
  },
  {
   "cell_type": "code",
   "execution_count": null,
   "metadata": {},
   "outputs": [],
   "source": [
    "# time each mouse spent in the chamber (sec)\n",
    "time_in_chamber = np.array([ 8.04771625, 19.54407722,  0.49840201,  1.87468118, 33.514583  ,\n",
    "       16.99931031, 12.51310626, 70.55550046, 21.05912206, 11.1724815 ,\n",
    "       14.1876603 ,  6.8216938 , 14.78030915,  9.38107272,  1.02013575,\n",
    "       26.09055912,  3.70289477, 36.36056829,  2.61781281,  4.85986824,\n",
    "        9.45114641,  2.15827486,  5.50847611, 32.40699163, 25.61463331,\n",
    "        0.3827238 , 10.91988075, 15.28433626,  0.12470494,  7.27570614,\n",
    "       11.30185468, 18.79723215,  0.27517055, 11.00176926,  8.28595199,\n",
    "        0.81413316,  7.5654543 ,  1.99222234, 29.16592859, 45.19549319,\n",
    "        7.75740993,  8.32682916,  7.68908508, 20.27008398, 20.29890058,\n",
    "        1.95449076, 14.22465153,  2.76129879,  0.43589936,  1.47200964,\n",
    "        9.68994954,  0.59710562, 31.05159743,  9.80808563,  2.52261486,\n",
    "       24.46583334, 35.99536572, 30.43371332,  0.37955355, 10.30476951,\n",
    "        2.06816517,  7.79531681, 26.04049154,  3.32351538,  3.68729145,\n",
    "        1.41024233,  0.83819575, 12.79509577, 35.15921421,  4.01324569])"
   ]
  }
 ],
 "metadata": {
  "kernelspec": {
   "display_name": "Python 3",
   "language": "python",
   "name": "python3"
  },
  "language_info": {
   "codemirror_mode": {
    "name": "ipython",
    "version": 3
   },
   "file_extension": ".py",
   "mimetype": "text/x-python",
   "name": "python",
   "nbconvert_exporter": "python",
   "pygments_lexer": "ipython3",
   "version": "3.7.1"
  }
 },
 "nbformat": 4,
 "nbformat_minor": 2
}

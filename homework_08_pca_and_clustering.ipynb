{
 "cells": [
  {
   "cell_type": "markdown",
   "metadata": {},
   "source": [
    "# Homework 08 - PCA and Clustering (60 pts)"
   ]
  },
  {
   "cell_type": "markdown",
   "metadata": {},
   "source": [
    "---\n",
    "### EEG dataset\n",
    "\n",
    "The following cell will load and parse an EEG dataset for you.\n",
    "\n",
    "The dataset is located in the time series lecture folder. If you put it somewhere else on your computer, just change the path so that it points to where you have placed the sampleEEGdata.mat file."
   ]
  },
  {
   "cell_type": "code",
   "execution_count": 2,
   "metadata": {},
   "outputs": [
    {
     "data": {
      "text/plain": [
       "((6336, 640), (64, 640), (64, 640, 99), (640,), 256.0, 3.90625)"
      ]
     },
     "execution_count": 2,
     "metadata": {},
     "output_type": "execute_result"
    }
   ],
   "source": [
    "# this cell loads a bunch of EEG data for you\n",
    "# you don't have to edit it, just run it to get the data\n",
    "import numpy as np\n",
    "from scipy.io import loadmat\n",
    "\n",
    "# data file is in the time series lecture folder\n",
    "data = loadmat('lecture_25_time_series/sampleEEGdata.mat')\n",
    "\n",
    "# grab relevant data, EEG units are microvolts (uV)\n",
    "# each channel is an electrode, each trial is a separate EEG recording from that electrode\n",
    "eeg_uV = data[\"EEG\"][0,0][\"data\"]  # [channel, time, trial]\n",
    "time_ms = data[\"EEG\"][0,0][\"times\"][0]\n",
    "samplefreq_Hz = float(data[\"EEG\"][0,0][\"srate\"][0])\n",
    "dt_ms = time_ms[1] - time_ms[0]\n",
    "n_channels = eeg_uV.shape[0]\n",
    "n_pts = eeg_uV.shape[1]\n",
    "n_trials = eeg_uV.shape[2]\n",
    "\n",
    "# put all EEG waveforms from all channels and all trials into one big matrix\n",
    "# rows are waveforms, columns are time points\n",
    "n_eegs = n_channels * n_trials\n",
    "all_eegs_uV = np.zeros((n_eegs, n_pts))\n",
    "avg_eegs_uV = np.zeros((n_channels, n_pts))  # average EEG per channel\n",
    "channels = np.zeros((n_eegs,), dtype=int)\n",
    "i = 0\n",
    "for c in range(n_channels):\n",
    "    avg_eegs_uV[c, :] = eeg_uV[c, :, :].mean(axis=1)\n",
    "    for t in range(n_trials):\n",
    "        all_eegs_uV[i, :] = eeg_uV[c, :, t]\n",
    "        channels[i] = c\n",
    "        i += 1\n",
    "\n",
    "all_eegs_uV.shape, avg_eegs_uV.shape, eeg_uV.shape, time_ms.shape, samplefreq_Hz, dt_ms"
   ]
  },
  {
   "cell_type": "code",
   "execution_count": 3,
   "metadata": {},
   "outputs": [],
   "source": [
    "import pickle\n",
    "\n",
    "with open(\"avg_eegs_uV.dat\", \"rb\") as f:\n",
    "    time_ms, avg_eegs_uV = pickle.load(f)"
   ]
  },
  {
   "cell_type": "code",
   "execution_count": null,
   "metadata": {},
   "outputs": [],
   "source": []
  },
  {
   "cell_type": "markdown",
   "metadata": {},
   "source": [
    "---\n",
    "### 1. (5 pts) Plot the average EEG recording from the first and last electrode channel. Use the **avg_eegs_uV** variable.\n",
    "\n",
    "Each row of the variable **avg_eegs_uV** is the average EEG recording from one electrode. First and last electrode recordings are in the first and last rows of this variable."
   ]
  },
  {
   "cell_type": "code",
   "execution_count": null,
   "metadata": {},
   "outputs": [],
   "source": []
  },
  {
   "cell_type": "markdown",
   "metadata": {},
   "source": [
    "---\n",
    "### 2. (5 pts) Perform Principal Component Analysis on the average EEG recordings from all electrodes such that 95% of the variability in the data is explained. Report the # of principal components required.\n",
    "\n",
    "Note that each length 640 time point EEG recording is considered as a point in a 640-dimensional space."
   ]
  },
  {
   "cell_type": "code",
   "execution_count": null,
   "metadata": {},
   "outputs": [],
   "source": []
  },
  {
   "cell_type": "markdown",
   "metadata": {},
   "source": [
    "---\n",
    "### 3. (5 pts) Transform the average EEGs into the lower dimensional PCA coordinates. Report the shape of the transformed EEG matrix and describe in your own words what the matrix represents."
   ]
  },
  {
   "cell_type": "code",
   "execution_count": null,
   "metadata": {},
   "outputs": [],
   "source": []
  },
  {
   "cell_type": "markdown",
   "metadata": {},
   "source": [
    "---\n",
    "### 4. (5 pts) Plot the fraction of the explained variance versus the number of principal components. How much of the variability in the data are explained by the first two principal components?"
   ]
  },
  {
   "cell_type": "code",
   "execution_count": null,
   "metadata": {},
   "outputs": [],
   "source": []
  },
  {
   "cell_type": "markdown",
   "metadata": {},
   "source": [
    "---\n",
    "### 5. (5 pts) Make a scatter plot of the PCA transformed EEGs projected onto the first two principal components (i.e. the scatter plot axes should be the first two principal components). Describe in your own words what each point on the scatter plot represents."
   ]
  },
  {
   "cell_type": "code",
   "execution_count": null,
   "metadata": {},
   "outputs": [],
   "source": []
  },
  {
   "cell_type": "markdown",
   "metadata": {},
   "source": [
    "---\n",
    "### 6. (5 pts) Plot the first three principal components. Make sure to label the $x$-axis of the plot. Describe in your own words what the principal components represent."
   ]
  },
  {
   "cell_type": "code",
   "execution_count": null,
   "metadata": {},
   "outputs": [],
   "source": []
  },
  {
   "cell_type": "markdown",
   "metadata": {},
   "source": [
    "---\n",
    "### 7. (5 pts) Transform back from PCA coordinates to the original EEG coordinates. Report the shape of the inverse transformed matrix and describe in your own words what the matrix represents."
   ]
  },
  {
   "cell_type": "code",
   "execution_count": null,
   "metadata": {},
   "outputs": [],
   "source": []
  },
  {
   "cell_type": "markdown",
   "metadata": {},
   "source": [
    "---\n",
    "### 8. (pts) Plot the average EEG recording for the first electrode overlaid with its approximation from the PCA."
   ]
  },
  {
   "cell_type": "code",
   "execution_count": null,
   "metadata": {},
   "outputs": [],
   "source": []
  },
  {
   "cell_type": "markdown",
   "metadata": {},
   "source": [
    "---\n",
    "### 9. (10 pts) Use a Gaussian Mixture Model (GMM) to cluster the averge EEG recordings based on their PCA transformed representations. Repeat for 1 to 64 clusters and plot the Bayesian Information Criteria (BIC) versus number of clusters. Report the optimal number of clusters."
   ]
  },
  {
   "cell_type": "code",
   "execution_count": null,
   "metadata": {},
   "outputs": [],
   "source": []
  },
  {
   "cell_type": "markdown",
   "metadata": {},
   "source": [
    "---\n",
    "### 10. (5 pts) Use the optimal number of clusters above to recluster using a GMM. Make a scatter plot of the PCA transformed EEGs projected onto the first two principal components (i.e. the scatter plot axes should be the first two principal components). Color the points by their cluster index."
   ]
  },
  {
   "cell_type": "code",
   "execution_count": null,
   "metadata": {},
   "outputs": [],
   "source": []
  },
  {
   "cell_type": "markdown",
   "metadata": {},
   "source": [
    "---\n",
    "### 11. (5 pts) For each of the first two clusters, plot overlaid all of the PCA-approximated EEGs belonging to that cluster.\n",
    "\n",
    "Note that EEGs within clusters share similar features, whereas EEGs from different clusters have different features."
   ]
  },
  {
   "cell_type": "code",
   "execution_count": null,
   "metadata": {},
   "outputs": [],
   "source": []
  }
 ],
 "metadata": {
  "kernelspec": {
   "display_name": "Python 3",
   "language": "python",
   "name": "python3"
  },
  "language_info": {
   "codemirror_mode": {
    "name": "ipython",
    "version": 3
   },
   "file_extension": ".py",
   "mimetype": "text/x-python",
   "name": "python",
   "nbconvert_exporter": "python",
   "pygments_lexer": "ipython3",
   "version": "3.7.1"
  }
 },
 "nbformat": 4,
 "nbformat_minor": 2
}

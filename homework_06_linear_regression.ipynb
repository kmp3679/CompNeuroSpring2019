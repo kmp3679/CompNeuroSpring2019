{
 "cells": [
  {
   "cell_type": "markdown",
   "metadata": {},
   "source": [
    "# Homework 06 - Linear Regression (45 pts)"
   ]
  },
  {
   "cell_type": "markdown",
   "metadata": {},
   "source": [
    "---\n",
    "### 1. (2 pts) Load the data in `heart.csv` (on GitHub repository) into a pandas dataframe."
   ]
  },
  {
   "cell_type": "markdown",
   "metadata": {},
   "source": [
    "---\n",
    "### 2. (2 pts) Display the dataframe for the first several and last several patients."
   ]
  },
  {
   "cell_type": "markdown",
   "metadata": {},
   "source": [
    "---\n",
    "### 3. (2 pts) Display the data for patients 100-103."
   ]
  },
  {
   "cell_type": "markdown",
   "metadata": {},
   "source": [
    "---\n",
    "### 4. (2 pts) Display only the 'age' and 'chol' data for patients 100-103."
   ]
  },
  {
   "cell_type": "markdown",
   "metadata": {},
   "source": [
    "---\n",
    "### 5. (2 pts) Print summary stats for each column of the dataframe."
   ]
  },
  {
   "cell_type": "markdown",
   "metadata": {},
   "source": [
    "---\n",
    "### 6. (2 pts) Use seaborn to plot histograms and correlation scatter plots of all the features and target in the dataframe."
   ]
  },
  {
   "cell_type": "markdown",
   "metadata": {},
   "source": [
    "---\n",
    "### 7. (2 pts) Print a table of correlations between each column in the dataframe."
   ]
  },
  {
   "cell_type": "markdown",
   "metadata": {},
   "source": [
    "---\n",
    "### 8. (2 pts) Plot the above correlations as a heatmap image."
   ]
  },
  {
   "cell_type": "markdown",
   "metadata": {},
   "source": [
    "---\n",
    "### 9. (4 pts) Extract the columns 'age' and 'thalach' and store them in numpy arrays $x$ and $y$. Print the shape of $x$ and $y$ and plot $y$ vs. $x$ as a scatter plot."
   ]
  },
  {
   "cell_type": "markdown",
   "metadata": {},
   "source": [
    "---\n",
    "### 10. (5 pts) Preprocess the data. For both $x$ and $y$, subtract the mean and then divide by the standard deviation. Replot $y$ vs. $x$."
   ]
  },
  {
   "cell_type": "markdown",
   "metadata": {},
   "source": [
    "---\n",
    "### 11. (2 pts) Reshape $x$ so it is a column vector (i.e. has dimensions N x 1). Hint, this is needed for the liner regression functions."
   ]
  },
  {
   "cell_type": "markdown",
   "metadata": {},
   "source": [
    "---\n",
    "### 11. (8 pts) Perform ordinary least squares regression on the two dimensional data $y$ vs. $x$. Replot the data overlaid with the linear fit line. Print the $R^2$ value for the fit and describe what it means."
   ]
  },
  {
   "cell_type": "markdown",
   "metadata": {},
   "source": [
    "$R^2$ is the fraction of variance in the data explained by the linear fit."
   ]
  },
  {
   "cell_type": "markdown",
   "metadata": {},
   "source": [
    "---\n",
    "### 12. (10 pts) Extract the columns 'age', 'sex, 'trestbps', 'thalach' and 'oldpeak' from the dataframe into the columns of a new numpy array $X$. Extract the column 'chol' into a new numpy array $y$. Preprocess the columns of $X$ and the array $y$ by subtracting their mean and dividing by their standard deviation. Then perform ordinary least squares linear regression to predict the dependence of cholesterol ($y$) on the feature columns (regressors) in $X$. Plot the slope (weight) of each feature in the fit as a bar graph. Report the mean squared error of the fit to $y$ and plot cholesterol ($y$) vs. patient index (i.e. just plot the vector $y$) overalid with the linear model fit."
   ]
  },
  {
   "cell_type": "code",
   "execution_count": null,
   "metadata": {},
   "outputs": [],
   "source": []
  }
 ],
 "metadata": {
  "kernelspec": {
   "display_name": "Python 3",
   "language": "python",
   "name": "python3"
  },
  "language_info": {
   "codemirror_mode": {
    "name": "ipython",
    "version": 3
   },
   "file_extension": ".py",
   "mimetype": "text/x-python",
   "name": "python",
   "nbconvert_exporter": "python",
   "pygments_lexer": "ipython3",
   "version": "3.7.1"
  }
 },
 "nbformat": 4,
 "nbformat_minor": 2
}

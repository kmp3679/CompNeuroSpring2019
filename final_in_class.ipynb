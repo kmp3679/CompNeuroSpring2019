{
 "cells": [
  {
   "cell_type": "markdown",
   "metadata": {},
   "source": [
    "# Final Exam - In Class (65 pts)"
   ]
  },
  {
   "cell_type": "markdown",
   "metadata": {},
   "source": [
    "---\n",
    "### 1. (5 pts) Plot the segment of the EEG recording loaded below corresponding to times from 0-500 ms. Label your axes and include units (EEG recording in $\\mu V$, time in $ms$)."
   ]
  },
  {
   "cell_type": "code",
   "execution_count": 5,
   "metadata": {},
   "outputs": [],
   "source": [
    "import pickle\n",
    "\n",
    "with open(\"eeg.dat\", \"rb\") as f:\n",
    "    time_ms, eeg_uV = pickle.load(f)"
   ]
  },
  {
   "cell_type": "code",
   "execution_count": null,
   "metadata": {},
   "outputs": [],
   "source": []
  },
  {
   "cell_type": "markdown",
   "metadata": {},
   "source": [
    "---\n",
    "### 2. (5 pts) What are the sample and Nyquist frequencies for the EEG in #1 above?"
   ]
  },
  {
   "cell_type": "code",
   "execution_count": null,
   "metadata": {},
   "outputs": [],
   "source": []
  },
  {
   "cell_type": "markdown",
   "metadata": {},
   "source": [
    "---\n",
    "### 3. (5 pts) If you were to downsample the above EEG by keeping only every 10th data point, what is the highest frequency component that the downsampled EEG can include?"
   ]
  },
  {
   "cell_type": "code",
   "execution_count": null,
   "metadata": {},
   "outputs": [],
   "source": []
  },
  {
   "cell_type": "markdown",
   "metadata": {},
   "source": [
    "---\n",
    "### 4. (5 pts) Downsample the above EEG to every 10th data point without introducing artifacts due to asliasing, and plot the original EEG overlaid with the appropriately downsampled version. Label axes with units."
   ]
  },
  {
   "cell_type": "code",
   "execution_count": null,
   "metadata": {},
   "outputs": [],
   "source": []
  },
  {
   "cell_type": "markdown",
   "metadata": {},
   "source": [
    "---\n",
    "### 5. (5 pts) Apply a 20 Hz lowpass filter to the original (not downsampled) EEG, and plot the original and filtered EEGs overlaid. Label axes with units."
   ]
  },
  {
   "cell_type": "code",
   "execution_count": null,
   "metadata": {},
   "outputs": [],
   "source": []
  },
  {
   "cell_type": "markdown",
   "metadata": {},
   "source": [
    "---\n",
    "### 6. (5 pts) Plot the power spectral density of the original and filtered EEGs from #5 above. Overlay both plots on a single graph. Make sure the graph indicates which is which."
   ]
  },
  {
   "cell_type": "code",
   "execution_count": null,
   "metadata": {},
   "outputs": [],
   "source": []
  },
  {
   "cell_type": "markdown",
   "metadata": {},
   "source": [
    "---\n",
    "### 7. (5 pts) Make a scatter plot of the $(x, y)$ data points given below, and report the covariance and correlation between their $x$ and $y$ components."
   ]
  },
  {
   "cell_type": "code",
   "execution_count": 44,
   "metadata": {},
   "outputs": [],
   "source": [
    "# (x, y) data points\n",
    "np.random.seed(0)\n",
    "x = np.random.randn(100)\n",
    "y = -0.82 * x + np.random.randn(len(x))"
   ]
  },
  {
   "cell_type": "code",
   "execution_count": null,
   "metadata": {},
   "outputs": [],
   "source": []
  },
  {
   "cell_type": "markdown",
   "metadata": {},
   "source": [
    "---\n",
    "### 8. (5 pts) Use ordinary least squares linear regression to fit a line to the $(x, y)$ data points from #7 above. Plot the fit line overlaid on top of the data points and report the slope of the fit line."
   ]
  },
  {
   "cell_type": "code",
   "execution_count": null,
   "metadata": {},
   "outputs": [],
   "source": []
  },
  {
   "cell_type": "markdown",
   "metadata": {},
   "source": [
    "---\n",
    "### 9. (5 pts) Report the $R^2$ value for the linear regression fit in #8 above, and explain in your own words what it means."
   ]
  },
  {
   "cell_type": "code",
   "execution_count": null,
   "metadata": {},
   "outputs": [],
   "source": []
  },
  {
   "cell_type": "markdown",
   "metadata": {},
   "source": [
    "---\n",
    "### 10. (5 pts) Use a list comprehension to make a list containing the cubed root of each even number in the range 20 to 30."
   ]
  },
  {
   "cell_type": "code",
   "execution_count": null,
   "metadata": {},
   "outputs": [],
   "source": []
  },
  {
   "cell_type": "markdown",
   "metadata": {},
   "source": [
    "---\n",
    "### 11. (5 pts) In your own words, explain what a $p$-value is."
   ]
  },
  {
   "cell_type": "markdown",
   "metadata": {},
   "source": []
  },
  {
   "cell_type": "markdown",
   "metadata": {},
   "source": [
    "---\n",
    "### 12. (5 pts) You record the open probability of a single ion channel at 0 and +50 mV. You repeat the experiment for five different single-channel recordings (see data below). Based soley on these data, would you conclude that the channel is gated by voltage? Report your null and alternative hypotheses, your p-value ans whether or not you reject your null hypothesis."
   ]
  },
  {
   "cell_type": "code",
   "execution_count": 12,
   "metadata": {},
   "outputs": [],
   "source": [
    "Po_0mV = np.array([0.49502864, 0.59442892, 0.40187473, 0.2487931 , 0.70953765])\n",
    "Po_50mV = np.array([0.84604619, 0.44750292, 0.69168295, 0.55909163, 0.83974497])"
   ]
  },
  {
   "cell_type": "code",
   "execution_count": null,
   "metadata": {},
   "outputs": [],
   "source": []
  },
  {
   "cell_type": "markdown",
   "metadata": {},
   "source": [
    "---\n",
    "### 13. (5 pts) Course evaluation. Please give me your honest opinions and/or suggestions."
   ]
  },
  {
   "cell_type": "markdown",
   "metadata": {},
   "source": []
  }
 ],
 "metadata": {
  "kernelspec": {
   "display_name": "Python 3",
   "language": "python",
   "name": "python3"
  },
  "language_info": {
   "codemirror_mode": {
    "name": "ipython",
    "version": 3
   },
   "file_extension": ".py",
   "mimetype": "text/x-python",
   "name": "python",
   "nbconvert_exporter": "python",
   "pygments_lexer": "ipython3",
   "version": "3.7.1"
  }
 },
 "nbformat": 4,
 "nbformat_minor": 2
}

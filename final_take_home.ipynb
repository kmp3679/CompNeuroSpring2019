{
 "cells": [
  {
   "cell_type": "markdown",
   "metadata": {},
   "source": [
    "# Final Exam - Take Home (65 pts)"
   ]
  },
  {
   "cell_type": "markdown",
   "metadata": {},
   "source": [
    "---\n",
    "### This exam will deal with two single channel current recordings taken under two different sets of conditions in the absence and presence of an activating stimulus.\n",
    "\n",
    "The cell below will load the two data sets from file. The files are located on the course GitHub main page. You may have to edit the file paths to reflect where you have stored these files locally on your computer."
   ]
  },
  {
   "cell_type": "code",
   "execution_count": 2,
   "metadata": {},
   "outputs": [],
   "source": [
    "import pickle\n",
    "\n",
    "with open(\"single_channel_nonactivated.dat\", \"rb\") as f:\n",
    "    time_ms, nonactivated_current_pA = pickle.load(f)\n",
    "\n",
    "with open(\"single_channel_activated.dat\", \"rb\") as f:\n",
    "    time_ms, activated_current_pA = pickle.load(f)"
   ]
  },
  {
   "cell_type": "markdown",
   "metadata": {},
   "source": [
    "---\n",
    "### 1. (5 pts) Plot the first 5,000 time points of each single channel current record from nonactivating and activating conditions on separate axes. Visually, what do you think is the biggest difference between the two conditions?"
   ]
  },
  {
   "cell_type": "code",
   "execution_count": null,
   "metadata": {},
   "outputs": [],
   "source": []
  },
  {
   "cell_type": "markdown",
   "metadata": {},
   "source": [
    "---\n",
    "### 2. (10 pts) For each condition, plot a histogram of the single channel current amplitudes (scaled to match a probability density function) overlaid with a fit for the probability density function for a weighted mixture of multiple Gaussians to the current amplitude distributions. You decide how many Gaussians to include.\n",
    "\n",
    "*Hint:* Decide solely based on your visual examination of the amplitude histograms."
   ]
  },
  {
   "cell_type": "code",
   "execution_count": null,
   "metadata": {},
   "outputs": [],
   "source": []
  },
  {
   "cell_type": "markdown",
   "metadata": {},
   "source": [
    "---\n",
    "### 3. (10 pts) Based on the mixture of Gaussians you fit to the current amplitude distributions, generate idealized cluster sequences for each current record. i.e. the idealized cluster sequence will be a sequence of integers indicating which current level or Gaussian cluster each data point belongs. Make a scatter plot of the first 5,000 time points of each single channel current record and color each data point according to which cluster it belongs."
   ]
  },
  {
   "cell_type": "code",
   "execution_count": null,
   "metadata": {},
   "outputs": [],
   "source": []
  },
  {
   "cell_type": "markdown",
   "metadata": {},
   "source": [
    "---\n",
    "### 4. (10 pts) From your idealized cluster sequences, generate distributions of closed and open lifetimes. Plot a histogram of these distributions (you do NOT need to use a logscale).\n",
    "\n",
    "*Hint:* Compute distributions of number of sample points during closures and openings, then convert to times using your sample interval.\n",
    "\n",
    "*Hint:* Think twice about which cluster corresponds to the closed channel and which to the open channel.\n",
    "\n",
    "You should end up with four plots, one for both open and closed lifetime distributions for each condition (i.e. nonactivating or activating)."
   ]
  },
  {
   "cell_type": "code",
   "execution_count": null,
   "metadata": {},
   "outputs": [],
   "source": []
  },
  {
   "cell_type": "markdown",
   "metadata": {},
   "source": [
    "---\n",
    "### 5. (5 pts) Fit each of the open and closed lifetime distributions with a single exponential probability distribution. Replot the histograms scaled to probability densities overlaid with the exponential fits."
   ]
  },
  {
   "cell_type": "code",
   "execution_count": null,
   "metadata": {},
   "outputs": [],
   "source": []
  },
  {
   "cell_type": "markdown",
   "metadata": {},
   "source": [
    "---\n",
    "### 6. (5 pts) What is the major difference between the lifetime distributions in the nonactivated and activated conditions?"
   ]
  },
  {
   "cell_type": "code",
   "execution_count": null,
   "metadata": {},
   "outputs": [],
   "source": []
  },
  {
   "cell_type": "markdown",
   "metadata": {},
   "source": [
    "---\n",
    "### 7. (5 pts) Build a Hidden Markov Model with two states (closed and open) and allowed transitions between them. Set the current distributions for each state to a Gaussian with mean and standard deviation close to what you found from your GMM fit to the current amplitude distributions. Start the model off with equal probability to be in either state. Don't worry about the actual transition probabilities at this point, just set the probability of staying in each state after one sample interval to 0.95 and the probability of switching states to 0.05."
   ]
  },
  {
   "cell_type": "code",
   "execution_count": null,
   "metadata": {},
   "outputs": [],
   "source": []
  },
  {
   "cell_type": "markdown",
   "metadata": {},
   "source": [
    "---\n",
    "### 8. (5 pts) Optimize the model parameters to best explain the nonactivated current data. Report the transition probability matrix."
   ]
  },
  {
   "cell_type": "code",
   "execution_count": null,
   "metadata": {},
   "outputs": [],
   "source": []
  },
  {
   "cell_type": "markdown",
   "metadata": {},
   "source": [
    "---\n",
    "### 9. (5 pts) Optimize the model parameters to best explain the activated current data. Report the transition probability matrix."
   ]
  },
  {
   "cell_type": "code",
   "execution_count": null,
   "metadata": {},
   "outputs": [],
   "source": []
  },
  {
   "cell_type": "markdown",
   "metadata": {},
   "source": [
    "---\n",
    "### 10. (5 pts) What is the major difference between the transition probabilities in the nonactivated and activated conditions? What is pretty much the same between the two conditions?"
   ]
  },
  {
   "cell_type": "code",
   "execution_count": null,
   "metadata": {},
   "outputs": [],
   "source": []
  }
 ],
 "metadata": {
  "kernelspec": {
   "display_name": "Python 3",
   "language": "python",
   "name": "python3"
  },
  "language_info": {
   "codemirror_mode": {
    "name": "ipython",
    "version": 3
   },
   "file_extension": ".py",
   "mimetype": "text/x-python",
   "name": "python",
   "nbconvert_exporter": "python",
   "pygments_lexer": "ipython3",
   "version": "3.7.1"
  }
 },
 "nbformat": 4,
 "nbformat_minor": 2
}

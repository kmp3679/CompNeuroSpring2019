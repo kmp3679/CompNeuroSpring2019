{
 "cells": [
  {
   "cell_type": "code",
   "execution_count": 1,
   "metadata": {},
   "outputs": [],
   "source": [
    "import numpy as np\n",
    "import matplotlib.pyplot as plt"
   ]
  },
  {
   "cell_type": "markdown",
   "metadata": {},
   "source": [
    "---\n",
    "### Load diabetes data set."
   ]
  },
  {
   "cell_type": "code",
   "execution_count": 2,
   "metadata": {},
   "outputs": [
    {
     "data": {
      "text/html": [
       "<div>\n",
       "<style scoped>\n",
       "    .dataframe tbody tr th:only-of-type {\n",
       "        vertical-align: middle;\n",
       "    }\n",
       "\n",
       "    .dataframe tbody tr th {\n",
       "        vertical-align: top;\n",
       "    }\n",
       "\n",
       "    .dataframe thead th {\n",
       "        text-align: right;\n",
       "    }\n",
       "</style>\n",
       "<table border=\"1\" class=\"dataframe\">\n",
       "  <thead>\n",
       "    <tr style=\"text-align: right;\">\n",
       "      <th></th>\n",
       "      <th>age</th>\n",
       "      <th>sex</th>\n",
       "      <th>bmi</th>\n",
       "      <th>map</th>\n",
       "      <th>tc</th>\n",
       "      <th>ldl</th>\n",
       "      <th>hdl</th>\n",
       "      <th>tch</th>\n",
       "      <th>ltg</th>\n",
       "      <th>glu</th>\n",
       "    </tr>\n",
       "  </thead>\n",
       "  <tbody>\n",
       "    <tr>\n",
       "      <th>437</th>\n",
       "      <td>0.041708</td>\n",
       "      <td>0.050680</td>\n",
       "      <td>0.019662</td>\n",
       "      <td>0.059744</td>\n",
       "      <td>-0.005697</td>\n",
       "      <td>-0.002566</td>\n",
       "      <td>-0.028674</td>\n",
       "      <td>-0.002592</td>\n",
       "      <td>0.031193</td>\n",
       "      <td>0.007207</td>\n",
       "    </tr>\n",
       "    <tr>\n",
       "      <th>438</th>\n",
       "      <td>-0.005515</td>\n",
       "      <td>0.050680</td>\n",
       "      <td>-0.015906</td>\n",
       "      <td>-0.067642</td>\n",
       "      <td>0.049341</td>\n",
       "      <td>0.079165</td>\n",
       "      <td>-0.028674</td>\n",
       "      <td>0.034309</td>\n",
       "      <td>-0.018118</td>\n",
       "      <td>0.044485</td>\n",
       "    </tr>\n",
       "    <tr>\n",
       "      <th>439</th>\n",
       "      <td>0.041708</td>\n",
       "      <td>0.050680</td>\n",
       "      <td>-0.015906</td>\n",
       "      <td>0.017282</td>\n",
       "      <td>-0.037344</td>\n",
       "      <td>-0.013840</td>\n",
       "      <td>-0.024993</td>\n",
       "      <td>-0.011080</td>\n",
       "      <td>-0.046879</td>\n",
       "      <td>0.015491</td>\n",
       "    </tr>\n",
       "    <tr>\n",
       "      <th>440</th>\n",
       "      <td>-0.045472</td>\n",
       "      <td>-0.044642</td>\n",
       "      <td>0.039062</td>\n",
       "      <td>0.001215</td>\n",
       "      <td>0.016318</td>\n",
       "      <td>0.015283</td>\n",
       "      <td>-0.028674</td>\n",
       "      <td>0.026560</td>\n",
       "      <td>0.044528</td>\n",
       "      <td>-0.025930</td>\n",
       "    </tr>\n",
       "    <tr>\n",
       "      <th>441</th>\n",
       "      <td>-0.045472</td>\n",
       "      <td>-0.044642</td>\n",
       "      <td>-0.073030</td>\n",
       "      <td>-0.081414</td>\n",
       "      <td>0.083740</td>\n",
       "      <td>0.027809</td>\n",
       "      <td>0.173816</td>\n",
       "      <td>-0.039493</td>\n",
       "      <td>-0.004220</td>\n",
       "      <td>0.003064</td>\n",
       "    </tr>\n",
       "  </tbody>\n",
       "</table>\n",
       "</div>"
      ],
      "text/plain": [
       "          age       sex       bmi       map        tc       ldl       hdl  \\\n",
       "437  0.041708  0.050680  0.019662  0.059744 -0.005697 -0.002566 -0.028674   \n",
       "438 -0.005515  0.050680 -0.015906 -0.067642  0.049341  0.079165 -0.028674   \n",
       "439  0.041708  0.050680 -0.015906  0.017282 -0.037344 -0.013840 -0.024993   \n",
       "440 -0.045472 -0.044642  0.039062  0.001215  0.016318  0.015283 -0.028674   \n",
       "441 -0.045472 -0.044642 -0.073030 -0.081414  0.083740  0.027809  0.173816   \n",
       "\n",
       "          tch       ltg       glu  \n",
       "437 -0.002592  0.031193  0.007207  \n",
       "438  0.034309 -0.018118  0.044485  \n",
       "439 -0.011080 -0.046879  0.015491  \n",
       "440  0.026560  0.044528 -0.025930  \n",
       "441 -0.039493 -0.004220  0.003064  "
      ]
     },
     "execution_count": 2,
     "metadata": {},
     "output_type": "execute_result"
    }
   ],
   "source": [
    "from sklearn import datasets\n",
    "import pandas as pd\n",
    "\n",
    "diabetes = datasets.load_diabetes()\n",
    "X = diabetes.data\n",
    "y = diabetes.target\n",
    "y -= y.mean()\n",
    "features = \"age sex bmi map tc ldl hdl tch ltg glu\".split()\n",
    "diabetesdf = pd.DataFrame(diabetes.data, columns=features)\n",
    "diabetesdf.tail()"
   ]
  },
  {
   "cell_type": "markdown",
   "metadata": {},
   "source": [
    "---\n",
    "### OLS regression"
   ]
  },
  {
   "cell_type": "code",
   "execution_count": 4,
   "metadata": {},
   "outputs": [
    {
     "name": "stdout",
     "output_type": "stream",
     "text": [
      "beta: [ -10.01219782 -239.81908937  519.83978679  324.39042769 -792.18416163\n",
      "  476.74583782  101.04457032  177.06417623  751.27932109   67.62538639]\n",
      "MSE: 2859.6903987680657\n",
      "R^2: 0.5177494254132934\n"
     ]
    }
   ],
   "source": [
    "from sklearn.linear_model import LinearRegression\n",
    "\n",
    "olsmodel = LinearRegression()\n",
    "olsmodel.fit(X, y)\n",
    "yfit = olsmodel.predict(X)\n",
    "\n",
    "print(\"beta:\", olsmodel.coef_)\n",
    "print(\"MSE:\", np.mean((y - yfit)**2))\n",
    "print(\"R^2:\", olsmodel.score(X, y))"
   ]
  },
  {
   "cell_type": "markdown",
   "metadata": {},
   "source": [
    "---\n",
    "### Ridge regression with cross validation\n",
    "\n",
    "Error to be minimized $= SSE + \\lambda \\sum_j \\beta_j^2$\n",
    "\n",
    "$\\lambda$ is refered to as a hyperparameter.\n",
    "\n",
    "We'll use cross validation to figure out what it should be."
   ]
  },
  {
   "cell_type": "code",
   "execution_count": 6,
   "metadata": {},
   "outputs": [
    {
     "name": "stdout",
     "output_type": "stream",
     "text": [
      "alpha: 0.004094915062380423\n",
      "beta: [  -8.49508631 -237.25073982  521.05537865  322.45164462 -545.10254784\n",
      "  280.74496815   -7.54438643  148.06050222  656.87377116   69.36047931]\n",
      "MSE: 2862.0592638039234\n",
      "R^2: 0.5173499463210277\n"
     ]
    },
    {
     "data": {
      "image/png": "[encoded data removed]",
      "text/plain": [
       "<Figure size 432x288 with 1 Axes>"
      ]
     },
     "metadata": {
      "needs_background": "light"
     },
     "output_type": "display_data"
    }
   ],
   "source": [
    "from sklearn.linear_model import RidgeCV\n",
    "\n",
    "alphas = np.logspace(-5, -1, 50)  # 10^-5 ... 10^-1\n",
    "ridgecvmodel = RidgeCV(alphas, store_cv_values=True)\n",
    "ridgecvmodel.fit(X, y)\n",
    "yfit = ridgecvmodel.predict(X)\n",
    "\n",
    "print(\"alpha:\", ridgecvmodel.alpha_)\n",
    "print(\"beta:\", ridgecvmodel.coef_)\n",
    "print(\"MSE:\", np.mean((y - yfit)**2))\n",
    "print(\"R^2:\", ridgecvmodel.score(X, y))\n",
    "\n",
    "MSE_vs_alpha = ridgecvmodel.cv_values_.mean(axis=0)\n",
    "idx = np.argmin(MSE_vs_alpha)\n",
    "plt.plot(alphas, MSE_vs_alpha, 'o-')\n",
    "plt.plot(alphas[idx], MSE_vs_alpha[idx], 'ro')\n",
    "plt.xlabel('alpha')\n",
    "plt.ylabel('RidgeCV MSE');\n",
    "plt.semilogx();"
   ]
  },
  {
   "cell_type": "markdown",
   "metadata": {},
   "source": [
    "---\n",
    "### Let's do ridge regression with 10-fold cross validation by hand."
   ]
  },
  {
   "cell_type": "code",
   "execution_count": 28,
   "metadata": {},
   "outputs": [
    {
     "data": {
      "image/png": "[encoded data removed]",
      "text/plain": [
       "<Figure size 432x288 with 1 Axes>"
      ]
     },
     "metadata": {
      "needs_background": "light"
     },
     "output_type": "display_data"
    },
    {
     "data": {
      "image/png": "[encoded data removed]",
      "text/plain": [
       "<Figure size 576x360 with 2 Axes>"
      ]
     },
     "metadata": {
      "needs_background": "light"
     },
     "output_type": "display_data"
    }
   ],
   "source": [
    "from sklearn.linear_model import Ridge\n",
    "from sklearn.model_selection import KFold\n",
    "\n",
    "K = 10\n",
    "kf = KFold(n_splits=K, shuffle=True, random_state=42)\n",
    "\n",
    "alphas = np.logspace(-5, -1, 50)  # 10^-5 ... 10^-1\n",
    "MSE_train_vs_alpha = []\n",
    "MSE_val_vs_alpha = []\n",
    "first = True\n",
    "for alpha in alphas:\n",
    "    # Perform 10-fold CV for each alpha and store the resulting average MSE for each of the 10 training and validation sets.\n",
    "    MSE_train_cv = []\n",
    "    MSE_val_cv = []\n",
    "    for train_index, val_index in kf.split(X, y):\n",
    "        # plot data split only on the first time\n",
    "        if first:\n",
    "            plt.figure()\n",
    "            plt.bar(train_index, np.ones(train_index.shape), color='lightblue', label='training set')\n",
    "            plt.bar(val_index, np.ones(val_index.shape), color='magenta', label='validation set')\n",
    "            plt.xlabel('Patient #')\n",
    "            plt.legend()\n",
    "            first = False\n",
    "        \n",
    "        # split data into training and validation sets\n",
    "        X_train = X[train_index, :]\n",
    "        X_val = X[val_index, :]\n",
    "        y_train = y[train_index]\n",
    "        y_val = y[val_index]\n",
    "        \n",
    "        # new model for each split\n",
    "        model = Ridge(alpha=alpha)\n",
    "        \n",
    "        # fit model to training set\n",
    "        model.fit(X_train, y_train)\n",
    "        \n",
    "        # get error from training set\n",
    "        y_train_fit = model.predict(X_train)\n",
    "        MSE_train_cv.append(np.mean((y_train - y_train_fit)**2))\n",
    "        \n",
    "        # get error from test set\n",
    "        y_val_fit = model.predict(X_val)\n",
    "        MSE_val_cv.append(np.mean((y_val - y_val_fit)**2))\n",
    "    \n",
    "    MSE_train_vs_alpha.append(np.array(MSE_train_cv).mean())\n",
    "    MSE_val_vs_alpha.append(np.array(MSE_val_cv).mean())\n",
    "\n",
    "fig, ax = plt.subplots(2, 1, figsize=(8, 5))\n",
    "idx = np.argmin(MSE_val_vs_alpha)\n",
    "ax[0].plot(alphas, MSE_val_vs_alpha, 'o-')\n",
    "ax[0].plot(alphas[idx], MSE_val_vs_alpha[idx], 'ro')\n",
    "ax[0].set_xlabel('alpha')\n",
    "ax[0].set_ylabel('Validation MSE');\n",
    "ax[0].semilogx();\n",
    "\n",
    "ax[1].plot(alphas, MSE_train_vs_alpha, 'o-')\n",
    "ax[1].set_xlabel('alpha')\n",
    "ax[1].set_ylabel('Training MSE');\n",
    "ax[1].semilogx();"
   ]
  },
  {
   "cell_type": "markdown",
   "metadata": {},
   "source": [
    "### OK, now we have selected a $\\lambda$. What are the best weights for each of our features? For that, let's refit all of our data using our selected model (i.e. our selected $\\lambda$)."
   ]
  },
  {
   "cell_type": "code",
   "execution_count": 20,
   "metadata": {},
   "outputs": [
    {
     "name": "stdout",
     "output_type": "stream",
     "text": [
      "alpha: 0.05689866029018293\n",
      "beta: [  -2.0879863  -219.24125985  505.09647716  310.08718329 -125.78616268\n",
      "  -45.45275601 -178.41710641  113.70971831  475.73642691   80.3685477 ]\n",
      "MSE: 2880.789670644095\n",
      "R^2: 0.5141913003834091\n"
     ]
    }
   ],
   "source": [
    "idx = np.argmin(MSE_val_vs_alpha)\n",
    "best_alpha = alphas[idx]\n",
    "\n",
    "ridgekfoldmodel = Ridge(alpha=best_alpha)\n",
    "ridgekfoldmodel.fit(X, y)\n",
    "yfit = ridgekfoldmodel.predict(X)\n",
    "\n",
    "print(\"alpha:\", best_alpha)\n",
    "print(\"beta:\", ridgekfoldmodel.coef_)\n",
    "print(\"MSE:\", np.mean((y - yfit)**2))\n",
    "print(\"R^2:\", ridgekfoldmodel.score(X, y))"
   ]
  },
  {
   "cell_type": "code",
   "execution_count": 21,
   "metadata": {},
   "outputs": [
    {
     "data": {
      "image/png": "[encoded data removed]",
      "text/plain": [
       "<Figure size 864x360 with 1 Axes>"
      ]
     },
     "metadata": {
      "needs_background": "light"
     },
     "output_type": "display_data"
    }
   ],
   "source": [
    "plt.figure(figsize=(12, 5))\n",
    "xticks = np.arange(len(features))\n",
    "plt.bar(xticks-0.2, olsmodel.coef_, width=0.2, label='OLS')\n",
    "plt.bar(xticks, ridgecvmodel.coef_, width=0.2, label='RidgeCV')\n",
    "plt.bar(xticks+0.2, ridgekfoldmodel.coef_, width=0.2, label='Ridge K-fold CV')\n",
    "plt.xticks(xticks, labels=features)\n",
    "plt.ylabel('Weight')\n",
    "plt.legend();"
   ]
  },
  {
   "cell_type": "markdown",
   "metadata": {},
   "source": [
    "---\n",
    "### K-fold cross validation wrapped up nice and neat for you."
   ]
  },
  {
   "cell_type": "code",
   "execution_count": 33,
   "metadata": {},
   "outputs": [
    {
     "data": {
      "text/plain": [
       "(array([0.42159257, 0.16844213, 0.3580036 , 0.51260807, 0.28492814,\n",
       "        0.51426355, 0.38824614, 0.48444792, 0.396502  , 0.52513249]),\n",
       " array([0.44340162, 0.45618259, 0.45419548, 0.42422853, 0.46216348,\n",
       "        0.42519585, 0.44992335, 0.44496173, 0.44986043, 0.43003492]))"
      ]
     },
     "execution_count": 33,
     "metadata": {},
     "output_type": "execute_result"
    }
   ],
   "source": [
    "from sklearn.model_selection import cross_validate\n",
    "\n",
    "model = Ridge(alpha=best_alpha)\n",
    "results = cross_validate(model, X, y, cv=10, return_train_score=True)\n",
    "\n",
    "results['test_score'], results['train_score']"
   ]
  },
  {
   "cell_type": "code",
   "execution_count": 44,
   "metadata": {},
   "outputs": [
    {
     "data": {
      "text/plain": [
       "(array([-2660.10810183, -2807.77514131, -3368.81621082, -2854.08114404,\n",
       "        -3483.41952682, -2873.28932119, -3617.91296518, -2297.81891449,\n",
       "        -4155.32700595, -1855.2051948 ]),\n",
       " array([-2920.36425809, -2893.8644532 , -2835.77048901, -2892.4101619 ,\n",
       "        -2813.90428447, -2893.44439421, -2813.98800069, -2946.78013906,\n",
       "        -2740.35449868, -3005.87443486]))"
      ]
     },
     "execution_count": 44,
     "metadata": {},
     "output_type": "execute_result"
    }
   ],
   "source": [
    "model = Ridge(alpha=best_alpha)\n",
    "results = cross_validate(model, X, y, cv=10, scoring='neg_mean_squared_error', return_train_score=True)\n",
    "\n",
    "results['test_score'], results['train_score']"
   ]
  },
  {
   "cell_type": "code",
   "execution_count": 60,
   "metadata": {},
   "outputs": [],
   "source": [
    "alphas = np.logspace(-5, -1, 50)  # 10^-5 ... 10^-1\n",
    "MSE_train_vs_alpha = []\n",
    "MSE_val_vs_alpha = []\n",
    "for alpha in alphas:\n",
    "    model = Ridge(alpha=alpha)\n",
    "    results = cross_validate(model, X, y, cv=10, scoring='neg_mean_squared_error', return_train_score=True)\n",
    "    MSE_train_vs_alpha.append(-results['train_score'].mean())\n",
    "    MSE_val_vs_alpha.append(-results['test_score'].mean())"
   ]
  },
  {
   "cell_type": "code",
   "execution_count": 63,
   "metadata": {},
   "outputs": [
    {
     "data": {
      "text/plain": [
       "0.047148663634573894"
      ]
     },
     "execution_count": 63,
     "metadata": {},
     "output_type": "execute_result"
    },
    {
     "data": {
      "image/png": "[encoded data removed]",
      "text/plain": [
       "<Figure size 576x360 with 2 Axes>"
      ]
     },
     "metadata": {
      "needs_background": "light"
     },
     "output_type": "display_data"
    }
   ],
   "source": [
    "fig, ax = plt.subplots(2, 1, figsize=(8, 5))\n",
    "idx = np.argmin(MSE_val_vs_alpha)\n",
    "ax[0].plot(alphas, MSE_val_vs_alpha, 'o-')\n",
    "ax[0].plot(alphas[idx], MSE_val_vs_alpha[idx], 'ro')\n",
    "ax[0].set_ylabel('Validation MSE');\n",
    "ax[0].semilogx();\n",
    "\n",
    "ax[1].plot(alphas, MSE_train_vs_alpha, 'o-')\n",
    "ax[1].set_xlabel('alpha')\n",
    "ax[1].set_ylabel('Training MSE');\n",
    "ax[1].semilogx();\n",
    "\n",
    "fig.tight_layout();\n",
    "\n",
    "alphas[idx]"
   ]
  },
  {
   "cell_type": "markdown",
   "metadata": {},
   "source": [
    "---\n",
    "### Compare with OLS."
   ]
  },
  {
   "cell_type": "code",
   "execution_count": 56,
   "metadata": {},
   "outputs": [
    {
     "name": "stdout",
     "output_type": "stream",
     "text": [
      "train MSE: 2852.5566887595296\n",
      "test MSE: 3000.3810328390514\n"
     ]
    }
   ],
   "source": [
    "model = LinearRegression()\n",
    "results = cross_validate(model, X, y, cv=10, scoring='neg_mean_squared_error', return_train_score=True)\n",
    "\n",
    "print(\"train MSE:\", -results['train_score'].mean())\n",
    "print(\"test MSE:\", -results['test_score'].mean())"
   ]
  },
  {
   "cell_type": "markdown",
   "metadata": {},
   "source": [
    "---\n",
    "### More ways to wrap things up nicely for you."
   ]
  },
  {
   "cell_type": "code",
   "execution_count": 64,
   "metadata": {},
   "outputs": [
    {
     "name": "stderr",
     "output_type": "stream",
     "text": [
      "/anaconda3/lib/python3.7/site-packages/sklearn/model_selection/_search.py:841: DeprecationWarning: The default of the `iid` parameter will change from True to False in version 0.22 and will be removed in 0.24. This will change numeric results when test-set sizes are unequal.\n",
      "  DeprecationWarning)\n"
     ]
    },
    {
     "data": {
      "text/plain": [
       "0.039069399370546126"
      ]
     },
     "execution_count": 64,
     "metadata": {},
     "output_type": "execute_result"
    }
   ],
   "source": [
    "from sklearn.model_selection import GridSearchCV\n",
    "\n",
    "params = {'alpha': np.logspace(-5, -1, 50)}\n",
    "ridgemodel = Ridge()\n",
    "cvmodel = GridSearchCV(ridgemodel, params, cv=10, scoring='neg_mean_squared_error')\n",
    "cvmodel.fit(X, y)\n",
    "cvmodel.best_params_['alpha']"
   ]
  },
  {
   "cell_type": "code",
   "execution_count": null,
   "metadata": {},
   "outputs": [],
   "source": []
  }
 ],
 "metadata": {
  "kernelspec": {
   "display_name": "Python 3",
   "language": "python",
   "name": "python3"
  },
  "language_info": {
   "codemirror_mode": {
    "name": "ipython",
    "version": 3
   },
   "file_extension": ".py",
   "mimetype": "text/x-python",
   "name": "python",
   "nbconvert_exporter": "python",
   "pygments_lexer": "ipython3",
   "version": "3.7.1"
  }
 },
 "nbformat": 4,
 "nbformat_minor": 2
}
